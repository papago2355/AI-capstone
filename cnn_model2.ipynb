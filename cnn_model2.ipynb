{
  "nbformat": 4,
  "nbformat_minor": 0,
  "metadata": {
    "colab": {
      "name": "cnn_model2.ipynb",
      "provenance": [],
      "collapsed_sections": [],
      "mount_file_id": "1Cuh6Ppgm-SswJS7ox9pICbfApIFtJjYi",
      "authorship_tag": "ABX9TyOQRX4EKrCUh0Svz5T9hmKz",
      "include_colab_link": true
    },
    "kernelspec": {
      "name": "python3",
      "display_name": "Python 3"
    },
    "language_info": {
      "name": "python"
    },
    "accelerator": "GPU"
  },
  "cells": [
    {
      "cell_type": "markdown",
      "metadata": {
        "id": "view-in-github",
        "colab_type": "text"
      },
      "source": [
        "<a href=\"https://colab.research.google.com/github/papago2355/AI-capstone/blob/main/cnn_model2.ipynb\" target=\"_parent\"><img src=\"https://colab.research.google.com/assets/colab-badge.svg\" alt=\"Open In Colab\"/></a>"
      ]
    },
    {
      "cell_type": "code",
      "metadata": {
        "id": "nfIsUSIWeJl3"
      },
      "source": [
        "from tensorflow import keras\n",
        "import numpy as np\n",
        "import matplotlib.pyplot as plt\n",
        "import pandas as pd"
      ],
      "execution_count": 1,
      "outputs": []
    },
    {
      "cell_type": "code",
      "metadata": {
        "id": "cgoS4WrH5J8M"
      },
      "source": [
        "from tensorflow import keras\n",
        "import numpy as np\n",
        "import matplotlib.pyplot as plt"
      ],
      "execution_count": 2,
      "outputs": []
    },
    {
      "cell_type": "code",
      "metadata": {
        "id": "AiDeIkNM5LGm"
      },
      "source": [
        "inputs = pd.read_csv('drive/MyDrive/content/train.csv')\n",
        "labels = pd.read_csv('drive/MyDrive/content/train_label.csv')\n",
        "test = pd.read_csv('drive/MyDrive/content/test.csv')"
      ],
      "execution_count": 3,
      "outputs": []
    },
    {
      "cell_type": "code",
      "metadata": {
        "id": "06Iah-S65MPY"
      },
      "source": [
        "time_series_length = pd.concat([inputs['EMAIL'].value_counts()])\n",
        "shortest_length = time_series_length[-1]"
      ],
      "execution_count": 4,
      "outputs": []
    },
    {
      "cell_type": "code",
      "metadata": {
        "id": "ZSX-2uAI5NuP"
      },
      "source": [
        "arranged_labels = []\n",
        "for id in inputs['EMAIL'].unique():\n",
        "            idx = inputs['EMAIL'][inputs['EMAIL'] == id].index\n",
        "            start_idx = idx[0]\n",
        "            end_idx = idx[-1]\n",
        "            inputs.drop(list((range(start_idx + shortest_length , end_idx+1))), axis=0, inplace=True)\n",
        "            inputs = inputs.reset_index(drop=True)\n",
        "            label_idx = labels['SAMPLE_EMAIL'][labels['SAMPLE_EMAIL'] == id].index[0]\n",
        "            arranged_labels.append(labels['DIAG_NM'][label_idx])"
      ],
      "execution_count": 5,
      "outputs": []
    },
    {
      "cell_type": "code",
      "metadata": {
        "id": "oum7L5415Nwj"
      },
      "source": [
        "del_col = [ 'EMAIL', 'summary_date',\n",
        "                   'activity_class_5min', 'activity_met_1min',\n",
        "                   'sleep_hr_5min', 'sleep_hypnogram_5min', 'sleep_rmssd_5min', 'timezone', 'sleep_total',\n",
        "                   'CONVERT(activity_class_5min USING utf8)', 'CONVERT(activity_met_1min USING utf8)',\n",
        "                   'CONVERT(sleep_hr_5min USING utf8)', 'CONVERT(sleep_hypnogram_5min USING utf8)',\n",
        "                   'CONVERT(sleep_rmssd_5min USING utf8)']\n",
        "inputs.drop(del_col, axis=1, inplace=True)\n",
        "test.drop(del_col, axis=1, inplace=True)"
      ],
      "execution_count": 6,
      "outputs": []
    },
    {
      "cell_type": "code",
      "metadata": {
        "id": "91sUmJos5Nyv"
      },
      "source": [
        "inputs = inputs.drop(columns = ['activity_average_met', 'activity_cal_active', 'activity_cal_total','activity_steps', 'activity_score',\n",
        "                                    'activity_score_move_every_hour', 'activity_daily_movement','activity_met_min_high',\n",
        "                                    'activity_score_stay_active', 'activity_total', 'activity_met_min_low','activity_medium',\n",
        "                                    'activity_score_training_frequency','activity_steps', 'activity_score',\n",
        "                                    'activity_score_training_volume','sleep_efficiency','sleep_duration','sleep_hr_lowest',\n",
        "                                    'sleep_midpoint_time','sleep_awake','sleep_deep','sleep_rem','sleep_restless','sleep_temperature_delta',\n",
        "                                    'sleep_score_total','sleep_score','activity_score_meet_daily_targets','sleep_period_id','activity_inactivity_alerts','activity_score_recovery_time'])\n",
        "test = test.drop(columns = ['activity_average_met', 'activity_cal_active', 'activity_cal_total','activity_steps', 'activity_score',\n",
        "                                    'activity_score_move_every_hour', 'activity_daily_movement','activity_met_min_high',\n",
        "                                    'activity_score_stay_active', 'activity_total', 'activity_met_min_low','activity_medium',\n",
        "                                    'activity_score_training_frequency','activity_steps', 'activity_score',\n",
        "                                    'activity_score_training_volume','sleep_efficiency','sleep_duration','sleep_hr_lowest',\n",
        "                                    'sleep_midpoint_time','sleep_awake','sleep_deep','sleep_rem','sleep_restless','sleep_temperature_delta',\n",
        "                                    'sleep_score_total','sleep_score','activity_score_meet_daily_targets','sleep_period_id','activity_inactivity_alerts','activity_score_recovery_time'])"
      ],
      "execution_count": 7,
      "outputs": []
    },
    {
      "cell_type": "code",
      "metadata": {
        "id": "t3cWu-Kv5N09"
      },
      "source": [
        "from sklearn.preprocessing import StandardScaler\n",
        "scaler = StandardScaler()\n",
        "scaler.fit(inputs)\n",
        "inputs = scaler.transform(inputs)"
      ],
      "execution_count": 8,
      "outputs": []
    },
    {
      "cell_type": "code",
      "metadata": {
        "id": "gmZzDS855N3N"
      },
      "source": [
        "arranged_labels = np.reshape(arranged_labels,(-1,1))"
      ],
      "execution_count": 9,
      "outputs": []
    },
    {
      "cell_type": "code",
      "metadata": {
        "id": "f_EA4utW5N5l"
      },
      "source": [
        "import pandas as pd \n",
        "from sklearn.preprocessing import LabelEncoder, OneHotEncoder\n",
        "\n",
        "le = OneHotEncoder()\n",
        "le.fit(arranged_labels)\n",
        "arranged_labels = le.fit_transform(arranged_labels).toarray()"
      ],
      "execution_count": 10,
      "outputs": []
    },
    {
      "cell_type": "code",
      "metadata": {
        "colab": {
          "base_uri": "https://localhost:8080/"
        },
        "id": "RCS5NKJnBymy",
        "outputId": "6f922716-389b-4c84-8d14-31abd1fc07cd"
      },
      "source": [
        "le.categories_"
      ],
      "execution_count": 11,
      "outputs": [
        {
          "output_type": "execute_result",
          "data": {
            "text/plain": [
              "[array(['CN', 'Dem', 'MCI'], dtype='<U3')]"
            ]
          },
          "metadata": {
            "tags": []
          },
          "execution_count": 11
        }
      ]
    },
    {
      "cell_type": "code",
      "metadata": {
        "id": "nYambmKr5N7_"
      },
      "source": [
        "# cnn lstm model\n",
        "\n",
        "\n",
        "x = inputs.reshape((148,35,22))"
      ],
      "execution_count": 12,
      "outputs": []
    },
    {
      "cell_type": "code",
      "metadata": {
        "id": "xzlH0gX45N-X"
      },
      "source": [
        "y = arranged_labels"
      ],
      "execution_count": 13,
      "outputs": []
    },
    {
      "cell_type": "code",
      "metadata": {
        "id": "Q-_AGpXDVLCX"
      },
      "source": [
        "from sklearn.utils.class_weight import compute_class_weight\n",
        "\n",
        "y_integers = np.argmax(y, axis=1)\n",
        "class_weights = compute_class_weight('balanced', np.unique(y_integers), y_integers)\n",
        "d_class_weights = dict(enumerate(class_weights))"
      ],
      "execution_count": 14,
      "outputs": []
    },
    {
      "cell_type": "code",
      "metadata": {
        "colab": {
          "base_uri": "https://localhost:8080/"
        },
        "id": "eql31QcmVM5Q",
        "outputId": "3a245ce1-de39-4646-b1df-eee5c65d7b98"
      },
      "source": [
        "d_class_weights"
      ],
      "execution_count": 15,
      "outputs": [
        {
          "output_type": "execute_result",
          "data": {
            "text/plain": [
              "{0: 0.5085910652920962, 1: 4.933333333333334, 2: 1.2032520325203253}"
            ]
          },
          "metadata": {
            "tags": []
          },
          "execution_count": 15
        }
      ]
    },
    {
      "cell_type": "code",
      "metadata": {
        "id": "5r-xfpb55OA1"
      },
      "source": [
        "import os\n",
        "import pandas as pd\n",
        "import numpy as np\n",
        "import tensorflow as tf\n",
        "import keras\n",
        "from keras.models import Sequential, Model\n",
        "from keras.layers import Dense, LSTM, Conv1D, MaxPooling1D, Dropout, Flatten, BatchNormalization, Input, Convolution2D, Activation,TimeDistributed\n",
        "from keras.layers import Input, multiply, concatenate, Activation, Masking, Reshape\n",
        "from keras.layers import GlobalAveragePooling1D, Permute, Dropout\n",
        "import random\n",
        "from sklearn.model_selection import train_test_split\n",
        "import matplotlib.pyplot as plt\n",
        "from tqdm import tqdm"
      ],
      "execution_count": 16,
      "outputs": []
    },
    {
      "cell_type": "code",
      "metadata": {
        "colab": {
          "base_uri": "https://localhost:8080/"
        },
        "id": "rXDnpDWI5ODa",
        "outputId": "dcd95c39-4f44-4fd3-ef6c-c07d619c382a"
      },
      "source": [
        "def generate_model():\n",
        "    ip = Input(shape=(35, 22))\n",
        "\n",
        "    x = Masking()(ip)\n",
        "    x = LSTM(units = 50, return_sequences = True)(x)\n",
        "    x = LSTM(units=50)(x)\n",
        "    x = Dropout(0.5)(x)\n",
        "\n",
        "  \n",
        "    y = Reshape((770,1))(ip)\n",
        "    y = Conv1D (kernel_size=3, filters=64, strides=3, padding='valid',kernel_initializer='he_uniform')(y)\n",
        "    y = BatchNormalization()(y)\n",
        "    y = Activation('relu')(y)\n",
        "\n",
        "    \n",
        "    y = Conv1D (kernel_size=3, filters=128, padding='same', kernel_initializer='he_uniform')(y)\n",
        "    y = BatchNormalization()(y)\n",
        "    y = Activation('relu')(y)\n",
        "    y = MaxPooling1D(pool_size=3, strides=3)(y)\n",
        "\n",
        "    y = Conv1D (kernel_size=3, filters=64, padding='same', kernel_initializer='he_uniform')(y)\n",
        "    y = BatchNormalization()(y)\n",
        "    y = Activation('relu')(y)\n",
        "    y = MaxPooling1D(pool_size=3, strides=3)(y)\n",
        "\n",
        "    \n",
        "    y = Dropout(0.5)(y)\n",
        "    y = Flatten()(y)\n",
        "    \n",
        "    x = concatenate([x, y])\n",
        "\n",
        "    out = Dense(3, activation='softmax')(x)\n",
        "\n",
        "    model = Model(ip, out)\n",
        "    #model.summary()\n",
        "    return model\n",
        "model = generate_model()\n",
        "model.summary()\n"
      ],
      "execution_count": 17,
      "outputs": [
        {
          "output_type": "stream",
          "text": [
            "Model: \"model\"\n",
            "__________________________________________________________________________________________________\n",
            "Layer (type)                    Output Shape         Param #     Connected to                     \n",
            "==================================================================================================\n",
            "input_1 (InputLayer)            [(None, 35, 22)]     0                                            \n",
            "__________________________________________________________________________________________________\n",
            "reshape (Reshape)               (None, 770, 1)       0           input_1[0][0]                    \n",
            "__________________________________________________________________________________________________\n",
            "conv1d (Conv1D)                 (None, 256, 64)      256         reshape[0][0]                    \n",
            "__________________________________________________________________________________________________\n",
            "batch_normalization (BatchNorma (None, 256, 64)      256         conv1d[0][0]                     \n",
            "__________________________________________________________________________________________________\n",
            "activation (Activation)         (None, 256, 64)      0           batch_normalization[0][0]        \n",
            "__________________________________________________________________________________________________\n",
            "conv1d_1 (Conv1D)               (None, 256, 128)     24704       activation[0][0]                 \n",
            "__________________________________________________________________________________________________\n",
            "batch_normalization_1 (BatchNor (None, 256, 128)     512         conv1d_1[0][0]                   \n",
            "__________________________________________________________________________________________________\n",
            "activation_1 (Activation)       (None, 256, 128)     0           batch_normalization_1[0][0]      \n",
            "__________________________________________________________________________________________________\n",
            "max_pooling1d (MaxPooling1D)    (None, 85, 128)      0           activation_1[0][0]               \n",
            "__________________________________________________________________________________________________\n",
            "conv1d_2 (Conv1D)               (None, 85, 64)       24640       max_pooling1d[0][0]              \n",
            "__________________________________________________________________________________________________\n",
            "batch_normalization_2 (BatchNor (None, 85, 64)       256         conv1d_2[0][0]                   \n",
            "__________________________________________________________________________________________________\n",
            "masking (Masking)               (None, 35, 22)       0           input_1[0][0]                    \n",
            "__________________________________________________________________________________________________\n",
            "activation_2 (Activation)       (None, 85, 64)       0           batch_normalization_2[0][0]      \n",
            "__________________________________________________________________________________________________\n",
            "lstm (LSTM)                     (None, 35, 50)       14600       masking[0][0]                    \n",
            "__________________________________________________________________________________________________\n",
            "max_pooling1d_1 (MaxPooling1D)  (None, 28, 64)       0           activation_2[0][0]               \n",
            "__________________________________________________________________________________________________\n",
            "lstm_1 (LSTM)                   (None, 50)           20200       lstm[0][0]                       \n",
            "__________________________________________________________________________________________________\n",
            "dropout_1 (Dropout)             (None, 28, 64)       0           max_pooling1d_1[0][0]            \n",
            "__________________________________________________________________________________________________\n",
            "dropout (Dropout)               (None, 50)           0           lstm_1[0][0]                     \n",
            "__________________________________________________________________________________________________\n",
            "flatten (Flatten)               (None, 1792)         0           dropout_1[0][0]                  \n",
            "__________________________________________________________________________________________________\n",
            "concatenate (Concatenate)       (None, 1842)         0           dropout[0][0]                    \n",
            "                                                                 flatten[0][0]                    \n",
            "__________________________________________________________________________________________________\n",
            "dense (Dense)                   (None, 3)            5529        concatenate[0][0]                \n",
            "==================================================================================================\n",
            "Total params: 90,953\n",
            "Trainable params: 90,441\n",
            "Non-trainable params: 512\n",
            "__________________________________________________________________________________________________\n"
          ],
          "name": "stdout"
        }
      ]
    },
    {
      "cell_type": "code",
      "metadata": {
        "colab": {
          "base_uri": "https://localhost:8080/"
        },
        "id": "AtBRjzrI5OFv",
        "outputId": "a84c3553-d5fd-430f-9262-2b72e3b95e44"
      },
      "source": [
        "import numpy as np\n",
        "from sklearn.model_selection import TimeSeriesSplit\n",
        "\n",
        "tscv = TimeSeriesSplit(max_train_size=None, n_splits=5)\n",
        "\n",
        "\n",
        "for train_index, test_index in tscv.split(x):\n",
        "    print(\"TRAIN:\", train_index, \"TEST:\", test_index)\n",
        "    X_train, X_test = x[train_index], x[test_index]\n",
        "    y_train, y_test = y[train_index], y[test_index]"
      ],
      "execution_count": 18,
      "outputs": [
        {
          "output_type": "stream",
          "text": [
            "TRAIN: [ 0  1  2  3  4  5  6  7  8  9 10 11 12 13 14 15 16 17 18 19 20 21 22 23\n",
            " 24 25 26 27] TEST: [28 29 30 31 32 33 34 35 36 37 38 39 40 41 42 43 44 45 46 47 48 49 50 51]\n",
            "TRAIN: [ 0  1  2  3  4  5  6  7  8  9 10 11 12 13 14 15 16 17 18 19 20 21 22 23\n",
            " 24 25 26 27 28 29 30 31 32 33 34 35 36 37 38 39 40 41 42 43 44 45 46 47\n",
            " 48 49 50 51] TEST: [52 53 54 55 56 57 58 59 60 61 62 63 64 65 66 67 68 69 70 71 72 73 74 75]\n",
            "TRAIN: [ 0  1  2  3  4  5  6  7  8  9 10 11 12 13 14 15 16 17 18 19 20 21 22 23\n",
            " 24 25 26 27 28 29 30 31 32 33 34 35 36 37 38 39 40 41 42 43 44 45 46 47\n",
            " 48 49 50 51 52 53 54 55 56 57 58 59 60 61 62 63 64 65 66 67 68 69 70 71\n",
            " 72 73 74 75] TEST: [76 77 78 79 80 81 82 83 84 85 86 87 88 89 90 91 92 93 94 95 96 97 98 99]\n",
            "TRAIN: [ 0  1  2  3  4  5  6  7  8  9 10 11 12 13 14 15 16 17 18 19 20 21 22 23\n",
            " 24 25 26 27 28 29 30 31 32 33 34 35 36 37 38 39 40 41 42 43 44 45 46 47\n",
            " 48 49 50 51 52 53 54 55 56 57 58 59 60 61 62 63 64 65 66 67 68 69 70 71\n",
            " 72 73 74 75 76 77 78 79 80 81 82 83 84 85 86 87 88 89 90 91 92 93 94 95\n",
            " 96 97 98 99] TEST: [100 101 102 103 104 105 106 107 108 109 110 111 112 113 114 115 116 117\n",
            " 118 119 120 121 122 123]\n",
            "TRAIN: [  0   1   2   3   4   5   6   7   8   9  10  11  12  13  14  15  16  17\n",
            "  18  19  20  21  22  23  24  25  26  27  28  29  30  31  32  33  34  35\n",
            "  36  37  38  39  40  41  42  43  44  45  46  47  48  49  50  51  52  53\n",
            "  54  55  56  57  58  59  60  61  62  63  64  65  66  67  68  69  70  71\n",
            "  72  73  74  75  76  77  78  79  80  81  82  83  84  85  86  87  88  89\n",
            "  90  91  92  93  94  95  96  97  98  99 100 101 102 103 104 105 106 107\n",
            " 108 109 110 111 112 113 114 115 116 117 118 119 120 121 122 123] TEST: [124 125 126 127 128 129 130 131 132 133 134 135 136 137 138 139 140 141\n",
            " 142 143 144 145 146 147]\n"
          ],
          "name": "stdout"
        }
      ]
    },
    {
      "cell_type": "code",
      "metadata": {
        "colab": {
          "base_uri": "https://localhost:8080/"
        },
        "id": "BNFZcLhgNP9k",
        "outputId": "1db61d62-0365-4088-d542-31f5238e1bcc"
      },
      "source": [
        "temp = le.inverse_transform(y_train).ravel()\n",
        "stack = 0\n",
        "for i in temp:\n",
        "  if i =='Dem':\n",
        "    stack+=1\n",
        "print(stack)"
      ],
      "execution_count": 19,
      "outputs": [
        {
          "output_type": "stream",
          "text": [
            "8\n"
          ],
          "name": "stdout"
        }
      ]
    },
    {
      "cell_type": "code",
      "metadata": {
        "colab": {
          "base_uri": "https://localhost:8080/"
        },
        "id": "4rdhxLbxKaj8",
        "outputId": "5e5d0354-f1b3-4ce9-8c17-936d3a3ed4c8"
      },
      "source": [
        "X_train.shape"
      ],
      "execution_count": 20,
      "outputs": [
        {
          "output_type": "execute_result",
          "data": {
            "text/plain": [
              "(124, 35, 22)"
            ]
          },
          "metadata": {
            "tags": []
          },
          "execution_count": 20
        }
      ]
    },
    {
      "cell_type": "code",
      "metadata": {
        "colab": {
          "base_uri": "https://localhost:8080/",
          "height": 69
        },
        "id": "pvFFIenH5deZ",
        "outputId": "2cf24d4c-d9bc-4276-ff65-2cf47826fa6b"
      },
      "source": [
        "#early stopping not working!\n",
        "\"\"\"\n",
        "from keras.optimizers import SGD\n",
        "from keras.callbacks import EarlyStopping\n",
        "early_stopping = EarlyStopping(patience=10, mode='auto')\n",
        "num_models=25\n",
        "model_list=[]\n",
        "\n",
        "\n",
        "for i in tqdm(range(num_models)):\n",
        "    model = generate_model()\n",
        "    model.compile(loss='categorical_crossentropy',\n",
        "              optimizer='adam',\n",
        "              metrics=['accuracy'])\n",
        "    model.fit(x,y, batch_size=16,validation_data=(X_test,y_test),callbacks=[early_stopping],epochs=100 )\n",
        "    model_list.append(model)\n",
        "    model.save(f\"model_{i}.h5\")\n",
        "\"\"\""
      ],
      "execution_count": 21,
      "outputs": [
        {
          "output_type": "execute_result",
          "data": {
            "application/vnd.google.colaboratory.intrinsic+json": {
              "type": "string"
            },
            "text/plain": [
              "'\\nfrom keras.optimizers import SGD\\nfrom keras.callbacks import EarlyStopping\\nearly_stopping = EarlyStopping(patience=10, mode=\\'auto\\')\\nnum_models=25\\nmodel_list=[]\\n\\n\\nfor i in tqdm(range(num_models)):\\n    model = generate_model()\\n    model.compile(loss=\\'categorical_crossentropy\\',\\n              optimizer=\\'adam\\',\\n              metrics=[\\'accuracy\\'])\\n    model.fit(x,y, batch_size=16,validation_data=(X_test,y_test),callbacks=[early_stopping],epochs=100 )\\n    model_list.append(model)\\n    model.save(f\"model_{i}.h5\")\\n'"
            ]
          },
          "metadata": {
            "tags": []
          },
          "execution_count": 21
        }
      ]
    },
    {
      "cell_type": "code",
      "metadata": {
        "colab": {
          "base_uri": "https://localhost:8080/",
          "height": 103
        },
        "id": "K5Uk00VsLzxW",
        "outputId": "ec3aba8e-a6a7-4045-bd98-e762946aa1ea"
      },
      "source": [
        "#I already have an enough models...\n",
        "\"\"\"\n",
        "from matplotlib import pyplot\n",
        "from keras.callbacks import EarlyStopping\n",
        "early_stopping = EarlyStopping(patience=7, mode='auto')\n",
        "for i in range(0,25):\n",
        "  model = generate_model()\n",
        "  model.compile(loss='categorical_crossentropy',\n",
        "                optimizer='adam',\n",
        "                metrics=['accuracy'])\n",
        "  history = model.fit(x, y, epochs=100, validation_data=(X_test, y_test),callbacks=[early_stopping],class_weight=d_class_weights)\n",
        "  model.save(f\"drive/MyDrive/content/model_{i}.h5\")\n",
        "  pyplot.plot(history.history['loss'])\n",
        "  pyplot.plot(history.history['val_loss'])\n",
        "  pyplot.title('model train vs validation loss')\n",
        "  pyplot.ylabel('loss')\n",
        "  pyplot.xlabel('epoch')\n",
        "  pyplot.legend(['train', 'validation'], loc='upper right')\n",
        "  pyplot.show()\n",
        "  \"\"\""
      ],
      "execution_count": 22,
      "outputs": [
        {
          "output_type": "execute_result",
          "data": {
            "application/vnd.google.colaboratory.intrinsic+json": {
              "type": "string"
            },
            "text/plain": [
              "'\\nfrom matplotlib import pyplot\\nfrom keras.callbacks import EarlyStopping\\nearly_stopping = EarlyStopping(patience=7, mode=\\'auto\\')\\nfor i in range(0,25):\\n  model = generate_model()\\n  model.compile(loss=\\'categorical_crossentropy\\',\\n                optimizer=\\'adam\\',\\n                metrics=[\\'accuracy\\'])\\n  history = model.fit(x, y, epochs=100, validation_data=(X_test, y_test),callbacks=[early_stopping],class_weight=d_class_weights)\\n  model.save(f\"drive/MyDrive/content/model_{i}.h5\")\\n  pyplot.plot(history.history[\\'loss\\'])\\n  pyplot.plot(history.history[\\'val_loss\\'])\\n  pyplot.title(\\'model train vs validation loss\\')\\n  pyplot.ylabel(\\'loss\\')\\n  pyplot.xlabel(\\'epoch\\')\\n  pyplot.legend([\\'train\\', \\'validation\\'], loc=\\'upper right\\')\\n  pyplot.show()\\n  '"
            ]
          },
          "metadata": {
            "tags": []
          },
          "execution_count": 22
        }
      ]
    },
    {
      "cell_type": "code",
      "metadata": {
        "colab": {
          "base_uri": "https://localhost:8080/"
        },
        "id": "jSNTix9ppxsW",
        "outputId": "fea5edd0-9691-4e2c-bcff-04717cf90436"
      },
      "source": [
        "from keras.callbacks import EarlyStopping\n",
        "early_stopping = EarlyStopping(patience=20, mode='auto')\n",
        "#epoch 23 works best\n",
        "model = generate_model()\n",
        "model.compile(loss='categorical_crossentropy',\n",
        "              optimizer='adam',\n",
        "              metrics=['accuracy'])\n",
        "model.fit(x, y, epochs=500, validation_data=(X_test, y_test),callbacks=[early_stopping],class_weight=d_class_weights)\n",
        "#model.fit(x, y, epochs=23, validation_data=(X_test, y_test),class_weight=d_class_weights)\n",
        "model.save(\"drive/MyDrive/content/model_original.h5\")"
      ],
      "execution_count": 23,
      "outputs": [
        {
          "output_type": "stream",
          "text": [
            "WARNING:tensorflow:From /usr/local/lib/python3.7/dist-packages/tensorflow/python/ops/array_ops.py:5049: calling gather (from tensorflow.python.ops.array_ops) with validate_indices is deprecated and will be removed in a future version.\n",
            "Instructions for updating:\n",
            "The `validate_indices` argument has no effect. Indices are always validated on CPU and never validated on GPU.\n",
            "Epoch 1/500\n",
            "5/5 [==============================] - 29s 689ms/step - loss: 2.0793 - accuracy: 0.3511 - val_loss: 0.9294 - val_accuracy: 0.6667\n",
            "Epoch 2/500\n",
            "5/5 [==============================] - 0s 22ms/step - loss: 1.1722 - accuracy: 0.4466 - val_loss: 3.2515 - val_accuracy: 0.1667\n",
            "Epoch 3/500\n",
            "5/5 [==============================] - 0s 22ms/step - loss: 0.9122 - accuracy: 0.5667 - val_loss: 3.2766 - val_accuracy: 0.0833\n",
            "Epoch 4/500\n",
            "5/5 [==============================] - 0s 21ms/step - loss: 0.8388 - accuracy: 0.6131 - val_loss: 2.8790 - val_accuracy: 0.1250\n",
            "Epoch 5/500\n",
            "5/5 [==============================] - 0s 20ms/step - loss: 0.5600 - accuracy: 0.6443 - val_loss: 1.8856 - val_accuracy: 0.2083\n",
            "Epoch 6/500\n",
            "5/5 [==============================] - 0s 21ms/step - loss: 0.4794 - accuracy: 0.7639 - val_loss: 1.5340 - val_accuracy: 0.2500\n",
            "Epoch 7/500\n",
            "5/5 [==============================] - 0s 22ms/step - loss: 0.3540 - accuracy: 0.8205 - val_loss: 3.2948 - val_accuracy: 0.0833\n",
            "Epoch 8/500\n",
            "5/5 [==============================] - 0s 21ms/step - loss: 0.4111 - accuracy: 0.7099 - val_loss: 2.6764 - val_accuracy: 0.0833\n",
            "Epoch 9/500\n",
            "5/5 [==============================] - 0s 21ms/step - loss: 0.2330 - accuracy: 0.9000 - val_loss: 1.7739 - val_accuracy: 0.1667\n",
            "Epoch 10/500\n",
            "5/5 [==============================] - 0s 24ms/step - loss: 0.3316 - accuracy: 0.8753 - val_loss: 1.5130 - val_accuracy: 0.2083\n",
            "Epoch 11/500\n",
            "5/5 [==============================] - 0s 21ms/step - loss: 0.2104 - accuracy: 0.8782 - val_loss: 1.3519 - val_accuracy: 0.2083\n",
            "Epoch 12/500\n",
            "5/5 [==============================] - 0s 23ms/step - loss: 0.1927 - accuracy: 0.8581 - val_loss: 0.8177 - val_accuracy: 0.5833\n",
            "Epoch 13/500\n",
            "5/5 [==============================] - 0s 21ms/step - loss: 0.1332 - accuracy: 0.9464 - val_loss: 0.4211 - val_accuracy: 0.7500\n",
            "Epoch 14/500\n",
            "5/5 [==============================] - 0s 23ms/step - loss: 0.1594 - accuracy: 0.9289 - val_loss: 0.4399 - val_accuracy: 0.7917\n",
            "Epoch 15/500\n",
            "5/5 [==============================] - 0s 23ms/step - loss: 0.1446 - accuracy: 0.9410 - val_loss: 0.9316 - val_accuracy: 0.5833\n",
            "Epoch 16/500\n",
            "5/5 [==============================] - 0s 22ms/step - loss: 0.1162 - accuracy: 0.9318 - val_loss: 0.7098 - val_accuracy: 0.7083\n",
            "Epoch 17/500\n",
            "5/5 [==============================] - 0s 20ms/step - loss: 0.1555 - accuracy: 0.9580 - val_loss: 0.3222 - val_accuracy: 0.8750\n",
            "Epoch 18/500\n",
            "5/5 [==============================] - 0s 24ms/step - loss: 0.2193 - accuracy: 0.9384 - val_loss: 0.9898 - val_accuracy: 0.6250\n",
            "Epoch 19/500\n",
            "5/5 [==============================] - 0s 23ms/step - loss: 0.1303 - accuracy: 0.9113 - val_loss: 1.0586 - val_accuracy: 0.5833\n",
            "Epoch 20/500\n",
            "5/5 [==============================] - 0s 21ms/step - loss: 0.1048 - accuracy: 0.9297 - val_loss: 0.4468 - val_accuracy: 0.8750\n",
            "Epoch 21/500\n",
            "5/5 [==============================] - 0s 21ms/step - loss: 0.1420 - accuracy: 0.9321 - val_loss: 0.1881 - val_accuracy: 0.9167\n",
            "Epoch 22/500\n",
            "5/5 [==============================] - 0s 24ms/step - loss: 0.0730 - accuracy: 0.9649 - val_loss: 0.1497 - val_accuracy: 0.9583\n",
            "Epoch 23/500\n",
            "5/5 [==============================] - 0s 20ms/step - loss: 0.0568 - accuracy: 0.9732 - val_loss: 0.1408 - val_accuracy: 0.9583\n",
            "Epoch 24/500\n",
            "5/5 [==============================] - 0s 21ms/step - loss: 0.1002 - accuracy: 0.9492 - val_loss: 0.1496 - val_accuracy: 0.9583\n",
            "Epoch 25/500\n",
            "5/5 [==============================] - 0s 20ms/step - loss: 0.0744 - accuracy: 0.9640 - val_loss: 0.0956 - val_accuracy: 1.0000\n",
            "Epoch 26/500\n",
            "5/5 [==============================] - 0s 21ms/step - loss: 0.0381 - accuracy: 0.9921 - val_loss: 0.0650 - val_accuracy: 1.0000\n",
            "Epoch 27/500\n",
            "5/5 [==============================] - 0s 23ms/step - loss: 0.0355 - accuracy: 0.9964 - val_loss: 0.0440 - val_accuracy: 1.0000\n",
            "Epoch 28/500\n",
            "5/5 [==============================] - 0s 22ms/step - loss: 0.0430 - accuracy: 0.9869 - val_loss: 0.0364 - val_accuracy: 1.0000\n",
            "Epoch 29/500\n",
            "5/5 [==============================] - 0s 21ms/step - loss: 0.0413 - accuracy: 0.9738 - val_loss: 0.0264 - val_accuracy: 1.0000\n",
            "Epoch 30/500\n",
            "5/5 [==============================] - 0s 21ms/step - loss: 0.0435 - accuracy: 0.9649 - val_loss: 0.0155 - val_accuracy: 1.0000\n",
            "Epoch 31/500\n",
            "5/5 [==============================] - 0s 20ms/step - loss: 0.0439 - accuracy: 0.9738 - val_loss: 0.0097 - val_accuracy: 1.0000\n",
            "Epoch 32/500\n",
            "5/5 [==============================] - 0s 22ms/step - loss: 0.0410 - accuracy: 1.0000 - val_loss: 0.0102 - val_accuracy: 1.0000\n",
            "Epoch 33/500\n",
            "5/5 [==============================] - 0s 19ms/step - loss: 0.0234 - accuracy: 1.0000 - val_loss: 0.0232 - val_accuracy: 1.0000\n",
            "Epoch 34/500\n",
            "5/5 [==============================] - 0s 20ms/step - loss: 0.0284 - accuracy: 0.9964 - val_loss: 0.0340 - val_accuracy: 1.0000\n",
            "Epoch 35/500\n",
            "5/5 [==============================] - 0s 21ms/step - loss: 0.0312 - accuracy: 0.9912 - val_loss: 0.0155 - val_accuracy: 1.0000\n",
            "Epoch 36/500\n",
            "5/5 [==============================] - 0s 19ms/step - loss: 0.0396 - accuracy: 0.9869 - val_loss: 0.0066 - val_accuracy: 1.0000\n",
            "Epoch 37/500\n",
            "5/5 [==============================] - 0s 20ms/step - loss: 0.0226 - accuracy: 1.0000 - val_loss: 0.0057 - val_accuracy: 1.0000\n",
            "Epoch 38/500\n",
            "5/5 [==============================] - 0s 23ms/step - loss: 0.0255 - accuracy: 0.9964 - val_loss: 0.0058 - val_accuracy: 1.0000\n",
            "Epoch 39/500\n",
            "5/5 [==============================] - 0s 21ms/step - loss: 0.0193 - accuracy: 0.9921 - val_loss: 0.0048 - val_accuracy: 1.0000\n",
            "Epoch 40/500\n",
            "5/5 [==============================] - 0s 21ms/step - loss: 0.0299 - accuracy: 0.9964 - val_loss: 0.0057 - val_accuracy: 1.0000\n",
            "Epoch 41/500\n",
            "5/5 [==============================] - 0s 21ms/step - loss: 0.0166 - accuracy: 1.0000 - val_loss: 0.0069 - val_accuracy: 1.0000\n",
            "Epoch 42/500\n",
            "5/5 [==============================] - 0s 20ms/step - loss: 0.0195 - accuracy: 1.0000 - val_loss: 0.0067 - val_accuracy: 1.0000\n",
            "Epoch 43/500\n",
            "5/5 [==============================] - 0s 20ms/step - loss: 0.0163 - accuracy: 0.9886 - val_loss: 0.0059 - val_accuracy: 1.0000\n",
            "Epoch 44/500\n",
            "5/5 [==============================] - 0s 23ms/step - loss: 0.0176 - accuracy: 0.9955 - val_loss: 0.0047 - val_accuracy: 1.0000\n",
            "Epoch 45/500\n",
            "5/5 [==============================] - 0s 19ms/step - loss: 0.0091 - accuracy: 1.0000 - val_loss: 0.0045 - val_accuracy: 1.0000\n",
            "Epoch 46/500\n",
            "5/5 [==============================] - 0s 20ms/step - loss: 0.0259 - accuracy: 0.9947 - val_loss: 0.0067 - val_accuracy: 1.0000\n",
            "Epoch 47/500\n",
            "5/5 [==============================] - 0s 20ms/step - loss: 0.0135 - accuracy: 0.9964 - val_loss: 0.0105 - val_accuracy: 1.0000\n",
            "Epoch 48/500\n",
            "5/5 [==============================] - 0s 22ms/step - loss: 0.0134 - accuracy: 0.9964 - val_loss: 0.0072 - val_accuracy: 1.0000\n",
            "Epoch 49/500\n",
            "5/5 [==============================] - 0s 22ms/step - loss: 0.0116 - accuracy: 0.9947 - val_loss: 0.0043 - val_accuracy: 1.0000\n",
            "Epoch 50/500\n",
            "5/5 [==============================] - 0s 21ms/step - loss: 0.0398 - accuracy: 0.9921 - val_loss: 0.0039 - val_accuracy: 1.0000\n",
            "Epoch 51/500\n",
            "5/5 [==============================] - 0s 21ms/step - loss: 0.0115 - accuracy: 1.0000 - val_loss: 0.0056 - val_accuracy: 1.0000\n",
            "Epoch 52/500\n",
            "5/5 [==============================] - 0s 20ms/step - loss: 0.0107 - accuracy: 1.0000 - val_loss: 0.0077 - val_accuracy: 1.0000\n",
            "Epoch 53/500\n",
            "5/5 [==============================] - 0s 21ms/step - loss: 0.0208 - accuracy: 0.9942 - val_loss: 0.0037 - val_accuracy: 1.0000\n",
            "Epoch 54/500\n",
            "5/5 [==============================] - 0s 20ms/step - loss: 0.0115 - accuracy: 0.9947 - val_loss: 0.0020 - val_accuracy: 1.0000\n",
            "Epoch 55/500\n",
            "5/5 [==============================] - 0s 20ms/step - loss: 0.0047 - accuracy: 1.0000 - val_loss: 0.0017 - val_accuracy: 1.0000\n",
            "Epoch 56/500\n",
            "5/5 [==============================] - 0s 22ms/step - loss: 0.0093 - accuracy: 1.0000 - val_loss: 0.0016 - val_accuracy: 1.0000\n",
            "Epoch 57/500\n",
            "5/5 [==============================] - 0s 22ms/step - loss: 0.0103 - accuracy: 0.9947 - val_loss: 0.0019 - val_accuracy: 1.0000\n",
            "Epoch 58/500\n",
            "5/5 [==============================] - 0s 21ms/step - loss: 0.0141 - accuracy: 0.9977 - val_loss: 0.0022 - val_accuracy: 1.0000\n",
            "Epoch 59/500\n",
            "5/5 [==============================] - 0s 22ms/step - loss: 0.0073 - accuracy: 1.0000 - val_loss: 0.0020 - val_accuracy: 1.0000\n",
            "Epoch 60/500\n",
            "5/5 [==============================] - 0s 21ms/step - loss: 0.0111 - accuracy: 1.0000 - val_loss: 0.0021 - val_accuracy: 1.0000\n",
            "Epoch 61/500\n",
            "5/5 [==============================] - 0s 21ms/step - loss: 0.0088 - accuracy: 1.0000 - val_loss: 0.0032 - val_accuracy: 1.0000\n",
            "Epoch 62/500\n",
            "5/5 [==============================] - 0s 21ms/step - loss: 0.0112 - accuracy: 0.9921 - val_loss: 0.0035 - val_accuracy: 1.0000\n",
            "Epoch 63/500\n",
            "5/5 [==============================] - 0s 20ms/step - loss: 0.0055 - accuracy: 1.0000 - val_loss: 0.0028 - val_accuracy: 1.0000\n",
            "Epoch 64/500\n",
            "5/5 [==============================] - 0s 21ms/step - loss: 0.0045 - accuracy: 1.0000 - val_loss: 0.0021 - val_accuracy: 1.0000\n",
            "Epoch 65/500\n",
            "5/5 [==============================] - 0s 22ms/step - loss: 0.0103 - accuracy: 1.0000 - val_loss: 0.0014 - val_accuracy: 1.0000\n",
            "Epoch 66/500\n",
            "5/5 [==============================] - 0s 22ms/step - loss: 0.0051 - accuracy: 1.0000 - val_loss: 0.0011 - val_accuracy: 1.0000\n",
            "Epoch 67/500\n",
            "5/5 [==============================] - 0s 24ms/step - loss: 0.0058 - accuracy: 1.0000 - val_loss: 0.0011 - val_accuracy: 1.0000\n",
            "Epoch 68/500\n",
            "5/5 [==============================] - 0s 21ms/step - loss: 0.0043 - accuracy: 1.0000 - val_loss: 0.0012 - val_accuracy: 1.0000\n",
            "Epoch 69/500\n",
            "5/5 [==============================] - 0s 21ms/step - loss: 0.0045 - accuracy: 1.0000 - val_loss: 0.0014 - val_accuracy: 1.0000\n",
            "Epoch 70/500\n",
            "5/5 [==============================] - 0s 21ms/step - loss: 0.0016 - accuracy: 1.0000 - val_loss: 0.0016 - val_accuracy: 1.0000\n",
            "Epoch 71/500\n",
            "5/5 [==============================] - 0s 21ms/step - loss: 0.0050 - accuracy: 1.0000 - val_loss: 0.0012 - val_accuracy: 1.0000\n",
            "Epoch 72/500\n",
            "5/5 [==============================] - 0s 21ms/step - loss: 0.0040 - accuracy: 1.0000 - val_loss: 7.9606e-04 - val_accuracy: 1.0000\n",
            "Epoch 73/500\n",
            "5/5 [==============================] - 0s 20ms/step - loss: 0.0028 - accuracy: 1.0000 - val_loss: 6.4018e-04 - val_accuracy: 1.0000\n",
            "Epoch 74/500\n",
            "5/5 [==============================] - 0s 21ms/step - loss: 0.0094 - accuracy: 1.0000 - val_loss: 8.2528e-04 - val_accuracy: 1.0000\n",
            "Epoch 75/500\n",
            "5/5 [==============================] - 0s 21ms/step - loss: 0.0034 - accuracy: 1.0000 - val_loss: 0.0014 - val_accuracy: 1.0000\n",
            "Epoch 76/500\n",
            "5/5 [==============================] - 0s 21ms/step - loss: 0.0047 - accuracy: 1.0000 - val_loss: 8.7422e-04 - val_accuracy: 1.0000\n",
            "Epoch 77/500\n",
            "5/5 [==============================] - 0s 21ms/step - loss: 0.0046 - accuracy: 1.0000 - val_loss: 4.6838e-04 - val_accuracy: 1.0000\n",
            "Epoch 78/500\n",
            "5/5 [==============================] - 0s 21ms/step - loss: 0.0056 - accuracy: 1.0000 - val_loss: 4.3946e-04 - val_accuracy: 1.0000\n",
            "Epoch 79/500\n",
            "5/5 [==============================] - 0s 21ms/step - loss: 0.0018 - accuracy: 1.0000 - val_loss: 4.1663e-04 - val_accuracy: 1.0000\n",
            "Epoch 80/500\n",
            "5/5 [==============================] - 0s 22ms/step - loss: 0.0109 - accuracy: 0.9947 - val_loss: 3.5971e-04 - val_accuracy: 1.0000\n",
            "Epoch 81/500\n",
            "5/5 [==============================] - 0s 21ms/step - loss: 0.0048 - accuracy: 1.0000 - val_loss: 4.3966e-04 - val_accuracy: 1.0000\n",
            "Epoch 82/500\n",
            "5/5 [==============================] - 0s 21ms/step - loss: 0.0023 - accuracy: 1.0000 - val_loss: 2.8297e-04 - val_accuracy: 1.0000\n",
            "Epoch 83/500\n",
            "5/5 [==============================] - 0s 21ms/step - loss: 0.0026 - accuracy: 1.0000 - val_loss: 2.8325e-04 - val_accuracy: 1.0000\n",
            "Epoch 84/500\n",
            "5/5 [==============================] - 0s 21ms/step - loss: 0.0044 - accuracy: 1.0000 - val_loss: 2.8825e-04 - val_accuracy: 1.0000\n",
            "Epoch 85/500\n",
            "5/5 [==============================] - 0s 22ms/step - loss: 0.0056 - accuracy: 1.0000 - val_loss: 3.4532e-04 - val_accuracy: 1.0000\n",
            "Epoch 86/500\n",
            "5/5 [==============================] - 0s 25ms/step - loss: 9.6818e-04 - accuracy: 1.0000 - val_loss: 4.4591e-04 - val_accuracy: 1.0000\n",
            "Epoch 87/500\n",
            "5/5 [==============================] - 0s 21ms/step - loss: 0.0016 - accuracy: 1.0000 - val_loss: 5.1302e-04 - val_accuracy: 1.0000\n",
            "Epoch 88/500\n",
            "5/5 [==============================] - 0s 21ms/step - loss: 0.0011 - accuracy: 1.0000 - val_loss: 5.4860e-04 - val_accuracy: 1.0000\n",
            "Epoch 89/500\n",
            "5/5 [==============================] - 0s 20ms/step - loss: 0.0021 - accuracy: 1.0000 - val_loss: 5.2771e-04 - val_accuracy: 1.0000\n",
            "Epoch 90/500\n",
            "5/5 [==============================] - 0s 20ms/step - loss: 0.0197 - accuracy: 0.9921 - val_loss: 7.9387e-04 - val_accuracy: 1.0000\n",
            "Epoch 91/500\n",
            "5/5 [==============================] - 0s 21ms/step - loss: 0.0019 - accuracy: 1.0000 - val_loss: 9.0882e-04 - val_accuracy: 1.0000\n",
            "Epoch 92/500\n",
            "5/5 [==============================] - 0s 20ms/step - loss: 0.0027 - accuracy: 1.0000 - val_loss: 9.8765e-04 - val_accuracy: 1.0000\n",
            "Epoch 93/500\n",
            "5/5 [==============================] - 0s 21ms/step - loss: 0.0028 - accuracy: 1.0000 - val_loss: 7.3324e-04 - val_accuracy: 1.0000\n",
            "Epoch 94/500\n",
            "5/5 [==============================] - 0s 21ms/step - loss: 0.0015 - accuracy: 1.0000 - val_loss: 4.3617e-04 - val_accuracy: 1.0000\n",
            "Epoch 95/500\n",
            "5/5 [==============================] - 0s 25ms/step - loss: 0.0016 - accuracy: 1.0000 - val_loss: 3.1096e-04 - val_accuracy: 1.0000\n",
            "Epoch 96/500\n",
            "5/5 [==============================] - 0s 21ms/step - loss: 0.0015 - accuracy: 1.0000 - val_loss: 2.5255e-04 - val_accuracy: 1.0000\n",
            "Epoch 97/500\n",
            "5/5 [==============================] - 0s 23ms/step - loss: 0.0034 - accuracy: 1.0000 - val_loss: 2.4275e-04 - val_accuracy: 1.0000\n",
            "Epoch 98/500\n",
            "5/5 [==============================] - 0s 22ms/step - loss: 0.0023 - accuracy: 1.0000 - val_loss: 2.4864e-04 - val_accuracy: 1.0000\n",
            "Epoch 99/500\n",
            "5/5 [==============================] - 0s 21ms/step - loss: 9.6755e-04 - accuracy: 1.0000 - val_loss: 2.6036e-04 - val_accuracy: 1.0000\n",
            "Epoch 100/500\n",
            "5/5 [==============================] - 0s 25ms/step - loss: 9.1846e-04 - accuracy: 1.0000 - val_loss: 2.6941e-04 - val_accuracy: 1.0000\n",
            "Epoch 101/500\n",
            "5/5 [==============================] - 0s 21ms/step - loss: 0.0025 - accuracy: 1.0000 - val_loss: 2.5939e-04 - val_accuracy: 1.0000\n",
            "Epoch 102/500\n",
            "5/5 [==============================] - 0s 20ms/step - loss: 0.0023 - accuracy: 1.0000 - val_loss: 2.7765e-04 - val_accuracy: 1.0000\n",
            "Epoch 103/500\n",
            "5/5 [==============================] - 0s 23ms/step - loss: 9.4140e-04 - accuracy: 1.0000 - val_loss: 2.9939e-04 - val_accuracy: 1.0000\n",
            "Epoch 104/500\n",
            "5/5 [==============================] - 0s 22ms/step - loss: 0.0039 - accuracy: 1.0000 - val_loss: 3.1167e-04 - val_accuracy: 1.0000\n",
            "Epoch 105/500\n",
            "5/5 [==============================] - 0s 24ms/step - loss: 0.0012 - accuracy: 1.0000 - val_loss: 3.3303e-04 - val_accuracy: 1.0000\n",
            "Epoch 106/500\n",
            "5/5 [==============================] - 0s 21ms/step - loss: 8.7780e-04 - accuracy: 1.0000 - val_loss: 3.4469e-04 - val_accuracy: 1.0000\n",
            "Epoch 107/500\n",
            "5/5 [==============================] - 0s 22ms/step - loss: 0.0018 - accuracy: 1.0000 - val_loss: 2.7282e-04 - val_accuracy: 1.0000\n",
            "Epoch 108/500\n",
            "5/5 [==============================] - 0s 22ms/step - loss: 9.4243e-04 - accuracy: 1.0000 - val_loss: 2.5232e-04 - val_accuracy: 1.0000\n",
            "Epoch 109/500\n",
            "5/5 [==============================] - 0s 21ms/step - loss: 0.0010 - accuracy: 1.0000 - val_loss: 2.4354e-04 - val_accuracy: 1.0000\n",
            "Epoch 110/500\n",
            "5/5 [==============================] - 0s 21ms/step - loss: 0.0021 - accuracy: 1.0000 - val_loss: 2.5083e-04 - val_accuracy: 1.0000\n",
            "Epoch 111/500\n",
            "5/5 [==============================] - 0s 23ms/step - loss: 7.9739e-04 - accuracy: 1.0000 - val_loss: 2.4621e-04 - val_accuracy: 1.0000\n",
            "Epoch 112/500\n",
            "5/5 [==============================] - 0s 20ms/step - loss: 0.0018 - accuracy: 1.0000 - val_loss: 2.4284e-04 - val_accuracy: 1.0000\n",
            "Epoch 113/500\n",
            "5/5 [==============================] - 0s 21ms/step - loss: 9.6119e-04 - accuracy: 1.0000 - val_loss: 2.8009e-04 - val_accuracy: 1.0000\n",
            "Epoch 114/500\n",
            "5/5 [==============================] - 0s 25ms/step - loss: 0.0012 - accuracy: 1.0000 - val_loss: 3.0410e-04 - val_accuracy: 1.0000\n",
            "Epoch 115/500\n",
            "5/5 [==============================] - 0s 21ms/step - loss: 0.0026 - accuracy: 1.0000 - val_loss: 2.9626e-04 - val_accuracy: 1.0000\n",
            "Epoch 116/500\n",
            "5/5 [==============================] - 0s 23ms/step - loss: 0.0046 - accuracy: 1.0000 - val_loss: 3.3476e-04 - val_accuracy: 1.0000\n",
            "Epoch 117/500\n",
            "5/5 [==============================] - 0s 21ms/step - loss: 0.0012 - accuracy: 1.0000 - val_loss: 3.3674e-04 - val_accuracy: 1.0000\n"
          ],
          "name": "stdout"
        }
      ]
    },
    {
      "cell_type": "code",
      "metadata": {
        "colab": {
          "base_uri": "https://localhost:8080/"
        },
        "id": "8FvkyIKK5dlS",
        "outputId": "36128ef9-e8e0-4892-ebf5-69c8c992ecbe"
      },
      "source": [
        "test_loss, test_acc = model.evaluate(X_test, y_test)\n",
        "\n",
        "print(\"Test accuracy\", test_acc)\n",
        "print(\"Test loss\", test_loss)"
      ],
      "execution_count": 24,
      "outputs": [
        {
          "output_type": "stream",
          "text": [
            "1/1 [==============================] - 0s 19ms/step - loss: 3.3674e-04 - accuracy: 1.0000\n",
            "Test accuracy 1.0\n",
            "Test loss 0.00033673885627649724\n"
          ],
          "name": "stdout"
        }
      ]
    },
    {
      "cell_type": "code",
      "metadata": {
        "id": "0rHMXNpbE5kk"
      },
      "source": [
        "yhat = model.predict(x)\n",
        "train_label = []\n",
        "for i in range(0,148):\n",
        "    if yhat[i][0] > yhat[i][1] and yhat[i][0] > yhat[i][2]:\n",
        "        train_label.append('CN')\n",
        "    elif yhat[i][1] > yhat[i][0] and yhat[i][1] > yhat[i][2]:\n",
        "        train_label.append('Dem')\n",
        "    elif yhat[i][2] > yhat[i][1] and yhat[i][2] > yhat[i][0]:\n",
        "        train_label.append('MCI')"
      ],
      "execution_count": 25,
      "outputs": []
    },
    {
      "cell_type": "code",
      "metadata": {
        "id": "WUZI2vScFiim"
      },
      "source": [
        "arranged_labels = le.inverse_transform(arranged_labels).ravel()"
      ],
      "execution_count": 26,
      "outputs": []
    },
    {
      "cell_type": "code",
      "metadata": {
        "colab": {
          "base_uri": "https://localhost:8080/"
        },
        "id": "XwiRFWJgFI9w",
        "outputId": "06dadc5c-6969-4a69-b406-64f1681ab59a"
      },
      "source": [
        "from sklearn.metrics import f1_score\n",
        "f1_score(arranged_labels, train_label, average='macro')"
      ],
      "execution_count": 27,
      "outputs": [
        {
          "output_type": "execute_result",
          "data": {
            "text/plain": [
              "1.0"
            ]
          },
          "metadata": {
            "tags": []
          },
          "execution_count": 27
        }
      ]
    },
    {
      "cell_type": "code",
      "metadata": {
        "id": "VrDqeNcc-xuN"
      },
      "source": [
        "test = pd.read_csv('drive/MyDrive/content/test.csv')"
      ],
      "execution_count": 28,
      "outputs": []
    },
    {
      "cell_type": "code",
      "metadata": {
        "id": "nDgmnQwL-zuw"
      },
      "source": [
        "time_series_length = pd.concat([test['EMAIL'].value_counts()])\n",
        "shortest_length = time_series_length[-1]"
      ],
      "execution_count": 29,
      "outputs": []
    },
    {
      "cell_type": "code",
      "metadata": {
        "colab": {
          "base_uri": "https://localhost:8080/"
        },
        "id": "y_aNXoYK_wPh",
        "outputId": "ede1db8d-9442-4230-8a94-916a6f53baa5"
      },
      "source": [
        "shortest_length"
      ],
      "execution_count": 30,
      "outputs": [
        {
          "output_type": "execute_result",
          "data": {
            "text/plain": [
              "35"
            ]
          },
          "metadata": {
            "tags": []
          },
          "execution_count": 30
        }
      ]
    },
    {
      "cell_type": "code",
      "metadata": {
        "colab": {
          "base_uri": "https://localhost:8080/"
        },
        "id": "mYboyy6S_Cvz",
        "outputId": "fd618c52-54a3-4989-fc98-227c976ba27f"
      },
      "source": [
        "test.shape"
      ],
      "execution_count": 31,
      "outputs": [
        {
          "output_type": "execute_result",
          "data": {
            "text/plain": [
              "(29092, 65)"
            ]
          },
          "metadata": {
            "tags": []
          },
          "execution_count": 31
        }
      ]
    },
    {
      "cell_type": "code",
      "metadata": {
        "id": "7hpmKifM5doj"
      },
      "source": [
        "for id in test['EMAIL'].unique():\n",
        "            idx = test['EMAIL'][test['EMAIL'] == id].index\n",
        "            start_idx = idx[0]\n",
        "            end_idx = idx[-1]\n",
        "            test.drop(list((range(start_idx + shortest_length , end_idx+1))), axis=0, inplace=True)\n",
        "            test = test.reset_index(drop=True)"
      ],
      "execution_count": 32,
      "outputs": []
    },
    {
      "cell_type": "code",
      "metadata": {
        "colab": {
          "base_uri": "https://localhost:8080/"
        },
        "id": "kCks4x_E_Ef7",
        "outputId": "43f65eee-3806-48bd-de1e-c897f4d126fa"
      },
      "source": [
        "test.shape"
      ],
      "execution_count": 33,
      "outputs": [
        {
          "output_type": "execute_result",
          "data": {
            "text/plain": [
              "(16485, 65)"
            ]
          },
          "metadata": {
            "tags": []
          },
          "execution_count": 33
        }
      ]
    },
    {
      "cell_type": "code",
      "metadata": {
        "id": "Kqd7x5Xp5OIM"
      },
      "source": [
        "del_col = [ 'EMAIL', 'summary_date',\n",
        "                   'activity_class_5min', 'activity_met_1min',\n",
        "                   'sleep_hr_5min', 'sleep_hypnogram_5min', 'sleep_rmssd_5min', 'timezone', 'sleep_total',\n",
        "                   'CONVERT(activity_class_5min USING utf8)', 'CONVERT(activity_met_1min USING utf8)',\n",
        "                   'CONVERT(sleep_hr_5min USING utf8)', 'CONVERT(sleep_hypnogram_5min USING utf8)',\n",
        "                   'CONVERT(sleep_rmssd_5min USING utf8)']\n",
        "\n",
        "test.drop(del_col, axis=1, inplace=True)"
      ],
      "execution_count": 34,
      "outputs": []
    },
    {
      "cell_type": "code",
      "metadata": {
        "id": "d0Cr1ff25OOn"
      },
      "source": [
        "test = test.drop(columns = ['activity_average_met', 'activity_cal_active', 'activity_cal_total','activity_steps', 'activity_score',\n",
        "                                    'activity_score_move_every_hour', 'activity_daily_movement','activity_met_min_high',\n",
        "                                    'activity_score_stay_active', 'activity_total', 'activity_met_min_low','activity_medium',\n",
        "                                    'activity_score_training_frequency','activity_steps', 'activity_score',\n",
        "                                    'activity_score_training_volume','sleep_efficiency','sleep_duration','sleep_hr_lowest',\n",
        "                                    'sleep_midpoint_time','sleep_awake','sleep_deep','sleep_rem','sleep_restless','sleep_temperature_delta',\n",
        "                                    'sleep_score_total','sleep_score','activity_score_meet_daily_targets','sleep_period_id','activity_inactivity_alerts','activity_score_recovery_time'])"
      ],
      "execution_count": 35,
      "outputs": []
    },
    {
      "cell_type": "code",
      "metadata": {
        "id": "tNjXCdEj_Q-d"
      },
      "source": [
        "from sklearn.preprocessing import StandardScaler\n",
        "scaler = StandardScaler()\n",
        "scaler.fit(test)\n",
        "test = scaler.transform(test)"
      ],
      "execution_count": 36,
      "outputs": []
    },
    {
      "cell_type": "code",
      "metadata": {
        "colab": {
          "base_uri": "https://localhost:8080/"
        },
        "id": "r5g9cqIA_e1R",
        "outputId": "a3f209d5-703f-4758-f848-b43406f41bd0"
      },
      "source": [
        "test.shape"
      ],
      "execution_count": 37,
      "outputs": [
        {
          "output_type": "execute_result",
          "data": {
            "text/plain": [
              "(16485, 22)"
            ]
          },
          "metadata": {
            "tags": []
          },
          "execution_count": 37
        }
      ]
    },
    {
      "cell_type": "code",
      "metadata": {
        "id": "Uqzq0YVS_RA6"
      },
      "source": [
        "x_test = test.reshape((471,35,22))"
      ],
      "execution_count": 38,
      "outputs": []
    },
    {
      "cell_type": "code",
      "metadata": {
        "id": "b3mJcn7Y_RD8"
      },
      "source": [
        "yhat = model.predict(x_test)"
      ],
      "execution_count": 39,
      "outputs": []
    },
    {
      "cell_type": "code",
      "metadata": {
        "colab": {
          "base_uri": "https://localhost:8080/"
        },
        "id": "qVa1HIIq_RJT",
        "outputId": "4274fa11-2f5d-46d4-add5-92c40b339cd2"
      },
      "source": [
        "yhat"
      ],
      "execution_count": 40,
      "outputs": [
        {
          "output_type": "execute_result",
          "data": {
            "text/plain": [
              "array([[9.9923480e-01, 6.6231260e-05, 6.9894904e-04],\n",
              "       [9.9805570e-01, 2.7420092e-04, 1.6700751e-03],\n",
              "       [9.9978226e-01, 1.9995385e-04, 1.7750366e-05],\n",
              "       ...,\n",
              "       [5.3710955e-01, 1.3499437e-03, 4.6154052e-01],\n",
              "       [9.3975085e-01, 1.8189403e-03, 5.8430139e-02],\n",
              "       [9.9607605e-01, 5.6398268e-05, 3.8675743e-03]], dtype=float32)"
            ]
          },
          "metadata": {
            "tags": []
          },
          "execution_count": 40
        }
      ]
    },
    {
      "cell_type": "code",
      "metadata": {
        "id": "5Of7di3H_RLV"
      },
      "source": [
        "test_labels = pd.read_csv('drive/MyDrive/content/sample_submission.csv')"
      ],
      "execution_count": 41,
      "outputs": []
    },
    {
      "cell_type": "code",
      "metadata": {
        "id": "q48IPOVu_ROD"
      },
      "source": [
        "for i in range(0,471):\n",
        "    if yhat[i][0] > yhat[i][1] and yhat[i][0] > yhat[i][2]:\n",
        "        test_labels['DIAG_NM'][i] = 'CN'\n",
        "    elif yhat[i][1] > yhat[i][0] and yhat[i][1] > yhat[i][2]:\n",
        "        test_labels['DIAG_NM'][i] = 'Dem'\n",
        "    elif yhat[i][2] > yhat[i][1] and yhat[i][2] > yhat[i][0]:\n",
        "        test_labels['DIAG_NM'][i] = 'MCI'"
      ],
      "execution_count": 42,
      "outputs": []
    },
    {
      "cell_type": "code",
      "metadata": {
        "colab": {
          "base_uri": "https://localhost:8080/"
        },
        "id": "-5jXbOfxClNt",
        "outputId": "06cd0cde-f3ab-4702-fcad-c8bf831f727f"
      },
      "source": [
        "yhat[0:10]"
      ],
      "execution_count": 43,
      "outputs": [
        {
          "output_type": "execute_result",
          "data": {
            "text/plain": [
              "array([[9.9923480e-01, 6.6231260e-05, 6.9894904e-04],\n",
              "       [9.9805570e-01, 2.7420092e-04, 1.6700751e-03],\n",
              "       [9.9978226e-01, 1.9995385e-04, 1.7750366e-05],\n",
              "       [9.8011750e-01, 1.5429921e-03, 1.8339552e-02],\n",
              "       [7.5909758e-01, 5.7234475e-03, 2.3517908e-01],\n",
              "       [3.1776323e-03, 1.4472807e-04, 9.9667764e-01],\n",
              "       [9.9855155e-01, 2.0793754e-05, 1.4275986e-03],\n",
              "       [7.7341706e-01, 1.5467506e-04, 2.2642830e-01],\n",
              "       [9.9977511e-01, 2.7414979e-05, 1.9750177e-04],\n",
              "       [9.9974769e-01, 1.9074694e-05, 2.3319699e-04]], dtype=float32)"
            ]
          },
          "metadata": {
            "tags": []
          },
          "execution_count": 43
        }
      ]
    },
    {
      "cell_type": "code",
      "metadata": {
        "id": "5TN3005tDPYS"
      },
      "source": [
        "inv_s2 = le.inverse_transform(yhat).ravel()"
      ],
      "execution_count": 44,
      "outputs": []
    },
    {
      "cell_type": "code",
      "metadata": {
        "colab": {
          "base_uri": "https://localhost:8080/"
        },
        "id": "TYqXmnAVDaE8",
        "outputId": "a497d437-8f51-429b-8315-a360adfbc150"
      },
      "source": [
        "inv_s2"
      ],
      "execution_count": 45,
      "outputs": [
        {
          "output_type": "execute_result",
          "data": {
            "text/plain": [
              "array(['CN', 'CN', 'CN', 'CN', 'CN', 'MCI', 'CN', 'CN', 'CN', 'CN', 'MCI',\n",
              "       'CN', 'MCI', 'CN', 'CN', 'CN', 'CN', 'CN', 'CN', 'CN', 'CN', 'CN',\n",
              "       'MCI', 'CN', 'CN', 'MCI', 'CN', 'CN', 'CN', 'CN', 'MCI', 'CN',\n",
              "       'MCI', 'CN', 'CN', 'CN', 'CN', 'MCI', 'CN', 'Dem', 'MCI', 'CN',\n",
              "       'MCI', 'CN', 'CN', 'CN', 'CN', 'CN', 'MCI', 'MCI', 'CN', 'MCI',\n",
              "       'MCI', 'CN', 'MCI', 'MCI', 'CN', 'CN', 'MCI', 'CN', 'Dem', 'CN',\n",
              "       'MCI', 'MCI', 'CN', 'CN', 'CN', 'CN', 'CN', 'CN', 'MCI', 'CN',\n",
              "       'MCI', 'CN', 'CN', 'MCI', 'CN', 'MCI', 'CN', 'CN', 'CN', 'CN',\n",
              "       'CN', 'CN', 'CN', 'CN', 'CN', 'MCI', 'CN', 'CN', 'CN', 'CN', 'MCI',\n",
              "       'CN', 'MCI', 'CN', 'CN', 'MCI', 'CN', 'CN', 'CN', 'MCI', 'MCI',\n",
              "       'CN', 'MCI', 'CN', 'CN', 'MCI', 'MCI', 'CN', 'CN', 'CN', 'Dem',\n",
              "       'CN', 'MCI', 'CN', 'MCI', 'CN', 'MCI', 'CN', 'CN', 'CN', 'CN',\n",
              "       'CN', 'CN', 'MCI', 'MCI', 'CN', 'CN', 'CN', 'Dem', 'CN', 'CN',\n",
              "       'MCI', 'CN', 'CN', 'MCI', 'MCI', 'CN', 'MCI', 'CN', 'MCI', 'CN',\n",
              "       'MCI', 'CN', 'CN', 'CN', 'Dem', 'Dem', 'CN', 'CN', 'CN', 'CN',\n",
              "       'CN', 'MCI', 'MCI', 'CN', 'MCI', 'CN', 'CN', 'CN', 'CN', 'CN',\n",
              "       'MCI', 'MCI', 'MCI', 'MCI', 'MCI', 'CN', 'MCI', 'CN', 'MCI', 'CN',\n",
              "       'CN', 'MCI', 'CN', 'CN', 'Dem', 'CN', 'MCI', 'CN', 'MCI', 'CN',\n",
              "       'MCI', 'MCI', 'CN', 'CN', 'MCI', 'MCI', 'MCI', 'MCI', 'CN', 'CN',\n",
              "       'CN', 'CN', 'CN', 'CN', 'CN', 'CN', 'MCI', 'CN', 'CN', 'CN', 'CN',\n",
              "       'CN', 'CN', 'CN', 'CN', 'Dem', 'CN', 'MCI', 'CN', 'CN', 'MCI',\n",
              "       'CN', 'CN', 'CN', 'CN', 'CN', 'CN', 'CN', 'CN', 'CN', 'MCI', 'CN',\n",
              "       'CN', 'CN', 'CN', 'MCI', 'CN', 'CN', 'CN', 'CN', 'CN', 'MCI', 'CN',\n",
              "       'MCI', 'CN', 'CN', 'CN', 'CN', 'CN', 'CN', 'CN', 'CN', 'CN', 'CN',\n",
              "       'MCI', 'CN', 'CN', 'CN', 'CN', 'MCI', 'MCI', 'MCI', 'CN', 'Dem',\n",
              "       'CN', 'MCI', 'CN', 'CN', 'MCI', 'CN', 'CN', 'CN', 'CN', 'CN', 'CN',\n",
              "       'MCI', 'CN', 'CN', 'MCI', 'CN', 'MCI', 'CN', 'MCI', 'CN', 'MCI',\n",
              "       'CN', 'CN', 'CN', 'MCI', 'CN', 'MCI', 'CN', 'MCI', 'CN', 'CN',\n",
              "       'Dem', 'CN', 'CN', 'CN', 'MCI', 'CN', 'MCI', 'CN', 'CN', 'MCI',\n",
              "       'MCI', 'MCI', 'CN', 'CN', 'CN', 'MCI', 'CN', 'CN', 'MCI', 'CN',\n",
              "       'CN', 'CN', 'CN', 'MCI', 'CN', 'CN', 'CN', 'MCI', 'CN', 'CN', 'CN',\n",
              "       'CN', 'MCI', 'CN', 'CN', 'MCI', 'CN', 'CN', 'CN', 'CN', 'MCI',\n",
              "       'CN', 'CN', 'CN', 'CN', 'MCI', 'CN', 'MCI', 'CN', 'MCI', 'CN',\n",
              "       'CN', 'CN', 'CN', 'CN', 'CN', 'CN', 'MCI', 'MCI', 'CN', 'MCI',\n",
              "       'MCI', 'MCI', 'MCI', 'CN', 'CN', 'CN', 'CN', 'CN', 'CN', 'CN',\n",
              "       'CN', 'CN', 'CN', 'MCI', 'CN', 'CN', 'CN', 'CN', 'CN', 'MCI',\n",
              "       'MCI', 'CN', 'MCI', 'CN', 'MCI', 'CN', 'CN', 'CN', 'CN', 'CN',\n",
              "       'MCI', 'MCI', 'CN', 'CN', 'CN', 'CN', 'CN', 'CN', 'CN', 'CN', 'CN',\n",
              "       'MCI', 'MCI', 'MCI', 'MCI', 'CN', 'CN', 'CN', 'MCI', 'CN', 'CN',\n",
              "       'MCI', 'MCI', 'MCI', 'CN', 'CN', 'MCI', 'CN', 'CN', 'MCI', 'MCI',\n",
              "       'CN', 'CN', 'CN', 'CN', 'Dem', 'CN', 'MCI', 'CN', 'CN', 'CN',\n",
              "       'MCI', 'CN', 'CN', 'Dem', 'MCI', 'MCI', 'CN', 'CN', 'MCI', 'Dem',\n",
              "       'CN', 'CN', 'CN', 'CN', 'CN', 'CN', 'MCI', 'CN', 'CN', 'CN', 'CN',\n",
              "       'CN', 'MCI', 'CN', 'MCI', 'MCI', 'CN', 'CN', 'CN', 'CN', 'CN',\n",
              "       'CN', 'MCI', 'CN', 'CN', 'CN', 'CN', 'MCI', 'CN', 'MCI', 'CN',\n",
              "       'CN', 'MCI', 'MCI', 'CN', 'CN', 'CN', 'MCI', 'CN', 'CN', 'CN'],\n",
              "      dtype='<U3')"
            ]
          },
          "metadata": {
            "tags": []
          },
          "execution_count": 45
        }
      ]
    },
    {
      "cell_type": "code",
      "metadata": {
        "id": "4T7EBtWe_RQ2"
      },
      "source": [
        "test_labels.to_csv('drive/MyDrive/content/predict18.csv', index=False)"
      ],
      "execution_count": 46,
      "outputs": []
    },
    {
      "cell_type": "code",
      "metadata": {
        "id": "MmtXaDDVWwsY"
      },
      "source": [
        "import seaborn as sns\n",
        "import matplotlib.pyplot as plt"
      ],
      "execution_count": 47,
      "outputs": []
    },
    {
      "cell_type": "code",
      "metadata": {
        "id": "U4mDyzzRWxq0"
      },
      "source": [
        ""
      ],
      "execution_count": 47,
      "outputs": []
    }
  ]
}