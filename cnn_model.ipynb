{
  "nbformat": 4,
  "nbformat_minor": 0,
  "metadata": {
    "colab": {
      "name": "cnn_model.ipynb",
      "provenance": [],
      "mount_file_id": "1Cuh6Ppgm-SswJS7ox9pICbfApIFtJjYi",
      "authorship_tag": "ABX9TyNpwT84g+Dy4smqEswdNNpl",
      "include_colab_link": true
    },
    "kernelspec": {
      "name": "python3",
      "display_name": "Python 3"
    },
    "language_info": {
      "name": "python"
    },
    "accelerator": "GPU"
  },
  "cells": [
    {
      "cell_type": "markdown",
      "metadata": {
        "id": "view-in-github",
        "colab_type": "text"
      },
      "source": [
        "<a href=\"https://colab.research.google.com/github/papago2355/AI-capstone/blob/main/cnn_model.ipynb\" target=\"_parent\"><img src=\"https://colab.research.google.com/assets/colab-badge.svg\" alt=\"Open In Colab\"/></a>"
      ]
    },
    {
      "cell_type": "code",
      "metadata": {
        "id": "nfIsUSIWeJl3"
      },
      "source": [
        "from tensorflow import keras\n",
        "import numpy as np\n",
        "import matplotlib.pyplot as plt\n",
        "import pandas as pd"
      ],
      "execution_count": 1,
      "outputs": []
    },
    {
      "cell_type": "code",
      "metadata": {
        "id": "cgoS4WrH5J8M"
      },
      "source": [
        "from tensorflow import keras\n",
        "import numpy as np\n",
        "import matplotlib.pyplot as plt"
      ],
      "execution_count": 2,
      "outputs": []
    },
    {
      "cell_type": "code",
      "metadata": {
        "id": "AiDeIkNM5LGm"
      },
      "source": [
        "inputs = pd.read_csv('drive/MyDrive/content/train.csv')\n",
        "labels = pd.read_csv('drive/MyDrive/content/train_label.csv')\n",
        "test = pd.read_csv('drive/MyDrive/content/test.csv')"
      ],
      "execution_count": 3,
      "outputs": []
    },
    {
      "cell_type": "code",
      "metadata": {
        "id": "06Iah-S65MPY"
      },
      "source": [
        "time_series_length = pd.concat([inputs['EMAIL'].value_counts()])\n",
        "shortest_length = time_series_length[-1]"
      ],
      "execution_count": 4,
      "outputs": []
    },
    {
      "cell_type": "code",
      "metadata": {
        "id": "ZSX-2uAI5NuP"
      },
      "source": [
        "arranged_labels = []\n",
        "for id in inputs['EMAIL'].unique():\n",
        "            idx = inputs['EMAIL'][inputs['EMAIL'] == id].index\n",
        "            start_idx = idx[0]\n",
        "            end_idx = idx[-1]\n",
        "            inputs.drop(list((range(start_idx + shortest_length , end_idx+1))), axis=0, inplace=True)\n",
        "            inputs = inputs.reset_index(drop=True)\n",
        "            label_idx = labels['SAMPLE_EMAIL'][labels['SAMPLE_EMAIL'] == id].index[0]\n",
        "            arranged_labels.append(labels['DIAG_NM'][label_idx])"
      ],
      "execution_count": 5,
      "outputs": []
    },
    {
      "cell_type": "code",
      "metadata": {
        "id": "oum7L5415Nwj"
      },
      "source": [
        "del_col = [ 'EMAIL', 'summary_date',\n",
        "                   'activity_class_5min', 'activity_met_1min',\n",
        "                   'sleep_hr_5min', 'sleep_hypnogram_5min', 'sleep_rmssd_5min', 'timezone', 'sleep_total',\n",
        "                   'CONVERT(activity_class_5min USING utf8)', 'CONVERT(activity_met_1min USING utf8)',\n",
        "                   'CONVERT(sleep_hr_5min USING utf8)', 'CONVERT(sleep_hypnogram_5min USING utf8)',\n",
        "                   'CONVERT(sleep_rmssd_5min USING utf8)']\n",
        "inputs.drop(del_col, axis=1, inplace=True)\n",
        "test.drop(del_col, axis=1, inplace=True)"
      ],
      "execution_count": 6,
      "outputs": []
    },
    {
      "cell_type": "code",
      "metadata": {
        "id": "91sUmJos5Nyv"
      },
      "source": [
        "inputs = inputs.drop(columns = ['activity_average_met', 'activity_cal_active', 'activity_cal_total','activity_steps', 'activity_score',\n",
        "                                    'activity_score_move_every_hour', 'activity_daily_movement','activity_met_min_high',\n",
        "                                    'activity_score_stay_active', 'activity_total', 'activity_met_min_low','activity_medium',\n",
        "                                    'activity_score_training_frequency','activity_steps', 'activity_score',\n",
        "                                    'activity_score_training_volume','sleep_efficiency','sleep_duration','sleep_hr_lowest',\n",
        "                                    'sleep_midpoint_time','sleep_awake','sleep_deep','sleep_rem','sleep_restless','sleep_temperature_delta',\n",
        "                                    'sleep_score_total','sleep_score','activity_score_meet_daily_targets','sleep_period_id','activity_inactivity_alerts','activity_score_recovery_time'])\n",
        "test = test.drop(columns = ['activity_average_met', 'activity_cal_active', 'activity_cal_total','activity_steps', 'activity_score',\n",
        "                                    'activity_score_move_every_hour', 'activity_daily_movement','activity_met_min_high',\n",
        "                                    'activity_score_stay_active', 'activity_total', 'activity_met_min_low','activity_medium',\n",
        "                                    'activity_score_training_frequency','activity_steps', 'activity_score',\n",
        "                                    'activity_score_training_volume','sleep_efficiency','sleep_duration','sleep_hr_lowest',\n",
        "                                    'sleep_midpoint_time','sleep_awake','sleep_deep','sleep_rem','sleep_restless','sleep_temperature_delta',\n",
        "                                    'sleep_score_total','sleep_score','activity_score_meet_daily_targets','sleep_period_id','activity_inactivity_alerts','activity_score_recovery_time'])"
      ],
      "execution_count": 7,
      "outputs": []
    },
    {
      "cell_type": "code",
      "metadata": {
        "id": "t3cWu-Kv5N09"
      },
      "source": [
        "from sklearn.preprocessing import StandardScaler\n",
        "scaler = StandardScaler()\n",
        "scaler.fit(inputs)\n",
        "inputs = scaler.transform(inputs)"
      ],
      "execution_count": 8,
      "outputs": []
    },
    {
      "cell_type": "code",
      "metadata": {
        "id": "gmZzDS855N3N"
      },
      "source": [
        "arranged_labels = np.reshape(arranged_labels,(-1,1))"
      ],
      "execution_count": 9,
      "outputs": []
    },
    {
      "cell_type": "code",
      "metadata": {
        "id": "f_EA4utW5N5l"
      },
      "source": [
        "import pandas as pd \n",
        "from sklearn.preprocessing import LabelEncoder, OneHotEncoder\n",
        "\n",
        "le = OneHotEncoder()\n",
        "le.fit(arranged_labels)\n",
        "arranged_labels = le.fit_transform(arranged_labels).toarray()"
      ],
      "execution_count": 10,
      "outputs": []
    },
    {
      "cell_type": "code",
      "metadata": {
        "colab": {
          "base_uri": "https://localhost:8080/"
        },
        "id": "RCS5NKJnBymy",
        "outputId": "5e48951e-8758-42eb-95de-7451e376b047"
      },
      "source": [
        "le.categories_"
      ],
      "execution_count": 62,
      "outputs": [
        {
          "output_type": "execute_result",
          "data": {
            "text/plain": [
              "[array(['CN', 'Dem', 'MCI'], dtype='<U3')]"
            ]
          },
          "metadata": {
            "tags": []
          },
          "execution_count": 62
        }
      ]
    },
    {
      "cell_type": "code",
      "metadata": {
        "id": "nYambmKr5N7_"
      },
      "source": [
        "# cnn lstm model\n",
        "\n",
        "\n",
        "x = inputs.reshape((148,35,22))"
      ],
      "execution_count": 11,
      "outputs": []
    },
    {
      "cell_type": "code",
      "metadata": {
        "id": "xzlH0gX45N-X"
      },
      "source": [
        "y = arranged_labels"
      ],
      "execution_count": 12,
      "outputs": []
    },
    {
      "cell_type": "code",
      "metadata": {
        "id": "5r-xfpb55OA1"
      },
      "source": [
        "import os\n",
        "import pandas as pd\n",
        "import numpy as np\n",
        "import tensorflow as tf\n",
        "import keras\n",
        "from keras.models import Sequential, Model\n",
        "from keras.layers import Dense, LSTM, Conv1D, MaxPooling1D, Dropout, Flatten, BatchNormalization, Input, Convolution2D, Activation,TimeDistributed\n",
        "from keras.layers import Input, multiply, concatenate, Activation, Masking, Reshape\n",
        "from keras.layers import GlobalAveragePooling1D, Permute, Dropout\n",
        "import random\n",
        "from sklearn.model_selection import train_test_split\n",
        "import matplotlib.pyplot as plt\n",
        "from tqdm import tqdm"
      ],
      "execution_count": 13,
      "outputs": []
    },
    {
      "cell_type": "code",
      "metadata": {
        "colab": {
          "base_uri": "https://localhost:8080/"
        },
        "id": "rXDnpDWI5ODa",
        "outputId": "1ba096ff-c0d3-4218-8c8c-44c41956e72f"
      },
      "source": [
        "def generate_model():\n",
        "    ip = Input(shape=(35, 22))\n",
        "\n",
        "    x = Masking()(ip)\n",
        "    x = LSTM(units = 50, return_sequences = True)(x)\n",
        "    x = LSTM(units=50)(x)\n",
        "    x = Dropout(0.5)(x)\n",
        "\n",
        "  \n",
        "    y = Reshape((770,1))(ip)\n",
        "    y = Conv1D (kernel_size=3, filters=128, strides=3, padding='valid',kernel_initializer='he_uniform')(y)\n",
        "    y = BatchNormalization()(y)\n",
        "    y = Activation('relu')(y)\n",
        "\n",
        "    \n",
        "    y = Conv1D (kernel_size=3, filters=256, padding='same', kernel_initializer='he_uniform')(y)\n",
        "    y = BatchNormalization()(y)\n",
        "    y = Activation('relu')(y)\n",
        "    y = MaxPooling1D(pool_size=3, strides=3)(y)\n",
        "   \n",
        "    y = Conv1D (kernel_size=3, filters=128, padding='same', kernel_initializer='he_uniform')(y)\n",
        "    y = BatchNormalization()(y)\n",
        "    y = Activation('relu')(y)\n",
        "    y = MaxPooling1D(pool_size=3, strides=3)(y)\n",
        "    \n",
        "     \n",
        "    \n",
        "    y = Dropout(0.5)(y)\n",
        "    y = Flatten()(y)\n",
        "    \n",
        "    x = concatenate([x, y])\n",
        "\n",
        "    out = Dense(3, activation='softmax')(x)\n",
        "\n",
        "    model = Model(ip, out)\n",
        "    #model.summary()\n",
        "    return model\n",
        "model = generate_model()\n",
        "model.summary()\n"
      ],
      "execution_count": 14,
      "outputs": [
        {
          "output_type": "stream",
          "text": [
            "Model: \"model\"\n",
            "__________________________________________________________________________________________________\n",
            "Layer (type)                    Output Shape         Param #     Connected to                     \n",
            "==================================================================================================\n",
            "input_1 (InputLayer)            [(None, 35, 22)]     0                                            \n",
            "__________________________________________________________________________________________________\n",
            "reshape (Reshape)               (None, 770, 1)       0           input_1[0][0]                    \n",
            "__________________________________________________________________________________________________\n",
            "conv1d (Conv1D)                 (None, 256, 128)     512         reshape[0][0]                    \n",
            "__________________________________________________________________________________________________\n",
            "batch_normalization (BatchNorma (None, 256, 128)     512         conv1d[0][0]                     \n",
            "__________________________________________________________________________________________________\n",
            "activation (Activation)         (None, 256, 128)     0           batch_normalization[0][0]        \n",
            "__________________________________________________________________________________________________\n",
            "conv1d_1 (Conv1D)               (None, 256, 256)     98560       activation[0][0]                 \n",
            "__________________________________________________________________________________________________\n",
            "batch_normalization_1 (BatchNor (None, 256, 256)     1024        conv1d_1[0][0]                   \n",
            "__________________________________________________________________________________________________\n",
            "activation_1 (Activation)       (None, 256, 256)     0           batch_normalization_1[0][0]      \n",
            "__________________________________________________________________________________________________\n",
            "max_pooling1d (MaxPooling1D)    (None, 85, 256)      0           activation_1[0][0]               \n",
            "__________________________________________________________________________________________________\n",
            "conv1d_2 (Conv1D)               (None, 85, 128)      98432       max_pooling1d[0][0]              \n",
            "__________________________________________________________________________________________________\n",
            "batch_normalization_2 (BatchNor (None, 85, 128)      512         conv1d_2[0][0]                   \n",
            "__________________________________________________________________________________________________\n",
            "masking (Masking)               (None, 35, 22)       0           input_1[0][0]                    \n",
            "__________________________________________________________________________________________________\n",
            "activation_2 (Activation)       (None, 85, 128)      0           batch_normalization_2[0][0]      \n",
            "__________________________________________________________________________________________________\n",
            "lstm (LSTM)                     (None, 35, 50)       14600       masking[0][0]                    \n",
            "__________________________________________________________________________________________________\n",
            "max_pooling1d_1 (MaxPooling1D)  (None, 28, 128)      0           activation_2[0][0]               \n",
            "__________________________________________________________________________________________________\n",
            "lstm_1 (LSTM)                   (None, 50)           20200       lstm[0][0]                       \n",
            "__________________________________________________________________________________________________\n",
            "dropout_1 (Dropout)             (None, 28, 128)      0           max_pooling1d_1[0][0]            \n",
            "__________________________________________________________________________________________________\n",
            "dropout (Dropout)               (None, 50)           0           lstm_1[0][0]                     \n",
            "__________________________________________________________________________________________________\n",
            "flatten (Flatten)               (None, 3584)         0           dropout_1[0][0]                  \n",
            "__________________________________________________________________________________________________\n",
            "concatenate (Concatenate)       (None, 3634)         0           dropout[0][0]                    \n",
            "                                                                 flatten[0][0]                    \n",
            "__________________________________________________________________________________________________\n",
            "dense (Dense)                   (None, 3)            10905       concatenate[0][0]                \n",
            "==================================================================================================\n",
            "Total params: 245,257\n",
            "Trainable params: 244,233\n",
            "Non-trainable params: 1,024\n",
            "__________________________________________________________________________________________________\n"
          ],
          "name": "stdout"
        }
      ]
    },
    {
      "cell_type": "code",
      "metadata": {
        "colab": {
          "base_uri": "https://localhost:8080/"
        },
        "id": "AtBRjzrI5OFv",
        "outputId": "93ebface-334a-46da-d3ed-d7dcd7a70ba5"
      },
      "source": [
        "import numpy as np\n",
        "from sklearn.model_selection import TimeSeriesSplit\n",
        "\n",
        "tscv = TimeSeriesSplit(max_train_size=None, n_splits=5)\n",
        "\n",
        "\n",
        "for train_index, test_index in tscv.split(x):\n",
        "    print(\"TRAIN:\", train_index, \"TEST:\", test_index)\n",
        "    X_train, X_test = x[train_index], x[test_index]\n",
        "    y_train, y_test = y[train_index], y[test_index]"
      ],
      "execution_count": 15,
      "outputs": [
        {
          "output_type": "stream",
          "text": [
            "TRAIN: [ 0  1  2  3  4  5  6  7  8  9 10 11 12 13 14 15 16 17 18 19 20 21 22 23\n",
            " 24 25 26 27] TEST: [28 29 30 31 32 33 34 35 36 37 38 39 40 41 42 43 44 45 46 47 48 49 50 51]\n",
            "TRAIN: [ 0  1  2  3  4  5  6  7  8  9 10 11 12 13 14 15 16 17 18 19 20 21 22 23\n",
            " 24 25 26 27 28 29 30 31 32 33 34 35 36 37 38 39 40 41 42 43 44 45 46 47\n",
            " 48 49 50 51] TEST: [52 53 54 55 56 57 58 59 60 61 62 63 64 65 66 67 68 69 70 71 72 73 74 75]\n",
            "TRAIN: [ 0  1  2  3  4  5  6  7  8  9 10 11 12 13 14 15 16 17 18 19 20 21 22 23\n",
            " 24 25 26 27 28 29 30 31 32 33 34 35 36 37 38 39 40 41 42 43 44 45 46 47\n",
            " 48 49 50 51 52 53 54 55 56 57 58 59 60 61 62 63 64 65 66 67 68 69 70 71\n",
            " 72 73 74 75] TEST: [76 77 78 79 80 81 82 83 84 85 86 87 88 89 90 91 92 93 94 95 96 97 98 99]\n",
            "TRAIN: [ 0  1  2  3  4  5  6  7  8  9 10 11 12 13 14 15 16 17 18 19 20 21 22 23\n",
            " 24 25 26 27 28 29 30 31 32 33 34 35 36 37 38 39 40 41 42 43 44 45 46 47\n",
            " 48 49 50 51 52 53 54 55 56 57 58 59 60 61 62 63 64 65 66 67 68 69 70 71\n",
            " 72 73 74 75 76 77 78 79 80 81 82 83 84 85 86 87 88 89 90 91 92 93 94 95\n",
            " 96 97 98 99] TEST: [100 101 102 103 104 105 106 107 108 109 110 111 112 113 114 115 116 117\n",
            " 118 119 120 121 122 123]\n",
            "TRAIN: [  0   1   2   3   4   5   6   7   8   9  10  11  12  13  14  15  16  17\n",
            "  18  19  20  21  22  23  24  25  26  27  28  29  30  31  32  33  34  35\n",
            "  36  37  38  39  40  41  42  43  44  45  46  47  48  49  50  51  52  53\n",
            "  54  55  56  57  58  59  60  61  62  63  64  65  66  67  68  69  70  71\n",
            "  72  73  74  75  76  77  78  79  80  81  82  83  84  85  86  87  88  89\n",
            "  90  91  92  93  94  95  96  97  98  99 100 101 102 103 104 105 106 107\n",
            " 108 109 110 111 112 113 114 115 116 117 118 119 120 121 122 123] TEST: [124 125 126 127 128 129 130 131 132 133 134 135 136 137 138 139 140 141\n",
            " 142 143 144 145 146 147]\n"
          ],
          "name": "stdout"
        }
      ]
    },
    {
      "cell_type": "code",
      "metadata": {
        "colab": {
          "base_uri": "https://localhost:8080/"
        },
        "id": "pvFFIenH5deZ",
        "outputId": "aeb8568b-d430-487d-8a2f-8f15de6a39b9"
      },
      "source": [
        "from keras.optimizers import SGD\n",
        "num_models=25\n",
        "model_list=[]\n",
        "\n",
        "for i in tqdm(range(num_models)):\n",
        "    model = generate_model()\n",
        "    model.compile(loss='categorical_crossentropy',\n",
        "              optimizer='adam',\n",
        "              metrics=['accuracy'])\n",
        "    model.fit(x,y, epochs=15, batch_size=16,validation_data=(X_test,y_test))\n",
        "    model_list.append(model)\n",
        "    model.save(f\"model_{i}.h5\")"
      ],
      "execution_count": 16,
      "outputs": [
        {
          "output_type": "stream",
          "text": [
            "\r  0%|          | 0/25 [00:00<?, ?it/s]"
          ],
          "name": "stderr"
        },
        {
          "output_type": "stream",
          "text": [
            "Epoch 1/15\n",
            "10/10 [==============================] - 29s 299ms/step - loss: 2.3553 - accuracy: 0.4322 - val_loss: 0.9611 - val_accuracy: 0.8333\n",
            "Epoch 2/15\n",
            "10/10 [==============================] - 0s 18ms/step - loss: 1.1753 - accuracy: 0.7176 - val_loss: 4.6942 - val_accuracy: 0.1250\n",
            "Epoch 3/15\n",
            "10/10 [==============================] - 0s 18ms/step - loss: 0.4741 - accuracy: 0.8173 - val_loss: 0.1874 - val_accuracy: 0.9583\n",
            "Epoch 4/15\n",
            "10/10 [==============================] - 0s 18ms/step - loss: 0.1750 - accuracy: 0.9248 - val_loss: 0.5965 - val_accuracy: 0.7083\n",
            "Epoch 5/15\n",
            "10/10 [==============================] - 0s 17ms/step - loss: 0.1340 - accuracy: 0.9475 - val_loss: 0.0293 - val_accuracy: 1.0000\n",
            "Epoch 6/15\n",
            "10/10 [==============================] - 0s 18ms/step - loss: 0.0906 - accuracy: 0.9824 - val_loss: 0.0360 - val_accuracy: 1.0000\n",
            "Epoch 7/15\n",
            "10/10 [==============================] - 0s 18ms/step - loss: 0.0959 - accuracy: 0.9677 - val_loss: 0.0202 - val_accuracy: 1.0000\n",
            "Epoch 8/15\n",
            "10/10 [==============================] - 0s 16ms/step - loss: 0.0349 - accuracy: 0.9912 - val_loss: 0.0286 - val_accuracy: 1.0000\n",
            "Epoch 9/15\n",
            "10/10 [==============================] - 0s 19ms/step - loss: 0.0436 - accuracy: 0.9884 - val_loss: 0.0418 - val_accuracy: 1.0000\n",
            "Epoch 10/15\n",
            "10/10 [==============================] - 0s 17ms/step - loss: 0.0654 - accuracy: 0.9858 - val_loss: 0.0102 - val_accuracy: 1.0000\n",
            "Epoch 11/15\n",
            "10/10 [==============================] - 0s 18ms/step - loss: 0.0522 - accuracy: 0.9827 - val_loss: 0.0056 - val_accuracy: 1.0000\n",
            "Epoch 12/15\n",
            "10/10 [==============================] - 0s 18ms/step - loss: 0.0396 - accuracy: 0.9815 - val_loss: 0.0136 - val_accuracy: 1.0000\n",
            "Epoch 13/15\n",
            "10/10 [==============================] - 0s 16ms/step - loss: 0.0283 - accuracy: 0.9957 - val_loss: 0.0266 - val_accuracy: 1.0000\n",
            "Epoch 14/15\n",
            "10/10 [==============================] - 0s 16ms/step - loss: 0.0169 - accuracy: 1.0000 - val_loss: 0.0097 - val_accuracy: 1.0000\n",
            "Epoch 15/15\n",
            "10/10 [==============================] - 0s 18ms/step - loss: 0.0291 - accuracy: 1.0000 - val_loss: 0.0055 - val_accuracy: 1.0000\n"
          ],
          "name": "stdout"
        },
        {
          "output_type": "stream",
          "text": [
            "\r  4%|▍         | 1/25 [00:33<13:12, 33.01s/it]"
          ],
          "name": "stderr"
        },
        {
          "output_type": "stream",
          "text": [
            "Epoch 1/15\n",
            "10/10 [==============================] - 10s 274ms/step - loss: 2.0902 - accuracy: 0.5356 - val_loss: 1.2260 - val_accuracy: 0.3333\n",
            "Epoch 2/15\n",
            "10/10 [==============================] - 0s 19ms/step - loss: 0.9539 - accuracy: 0.6689 - val_loss: 0.5219 - val_accuracy: 0.7500\n",
            "Epoch 3/15\n",
            "10/10 [==============================] - 0s 19ms/step - loss: 0.4486 - accuracy: 0.8009 - val_loss: 0.7655 - val_accuracy: 0.6667\n",
            "Epoch 4/15\n",
            "10/10 [==============================] - 0s 19ms/step - loss: 0.2184 - accuracy: 0.9162 - val_loss: 1.2462 - val_accuracy: 0.4583\n",
            "Epoch 5/15\n",
            "10/10 [==============================] - 0s 18ms/step - loss: 0.2225 - accuracy: 0.9049 - val_loss: 0.1337 - val_accuracy: 0.9167\n",
            "Epoch 6/15\n",
            "10/10 [==============================] - 0s 18ms/step - loss: 0.2002 - accuracy: 0.9486 - val_loss: 0.1550 - val_accuracy: 0.9583\n",
            "Epoch 7/15\n",
            "10/10 [==============================] - 0s 18ms/step - loss: 0.1241 - accuracy: 0.9720 - val_loss: 1.1835 - val_accuracy: 0.4583\n",
            "Epoch 8/15\n",
            "10/10 [==============================] - 0s 18ms/step - loss: 0.1253 - accuracy: 0.9264 - val_loss: 0.0332 - val_accuracy: 1.0000\n",
            "Epoch 9/15\n",
            "10/10 [==============================] - 0s 17ms/step - loss: 0.1208 - accuracy: 0.9826 - val_loss: 0.0578 - val_accuracy: 1.0000\n",
            "Epoch 10/15\n",
            "10/10 [==============================] - 0s 18ms/step - loss: 0.0638 - accuracy: 0.9870 - val_loss: 0.1120 - val_accuracy: 0.9583\n",
            "Epoch 11/15\n",
            "10/10 [==============================] - 0s 17ms/step - loss: 0.0699 - accuracy: 0.9763 - val_loss: 0.0070 - val_accuracy: 1.0000\n",
            "Epoch 12/15\n",
            "10/10 [==============================] - 0s 16ms/step - loss: 0.0584 - accuracy: 0.9865 - val_loss: 0.0042 - val_accuracy: 1.0000\n",
            "Epoch 13/15\n",
            "10/10 [==============================] - 0s 17ms/step - loss: 0.0750 - accuracy: 0.9692 - val_loss: 0.0038 - val_accuracy: 1.0000\n",
            "Epoch 14/15\n",
            "10/10 [==============================] - 0s 17ms/step - loss: 0.0590 - accuracy: 0.9642 - val_loss: 0.0123 - val_accuracy: 1.0000\n",
            "Epoch 15/15\n",
            "10/10 [==============================] - 0s 17ms/step - loss: 0.0414 - accuracy: 0.9912 - val_loss: 0.0026 - val_accuracy: 1.0000\n"
          ],
          "name": "stdout"
        },
        {
          "output_type": "stream",
          "text": [
            "\r  8%|▊         | 2/25 [00:47<10:28, 27.32s/it]"
          ],
          "name": "stderr"
        },
        {
          "output_type": "stream",
          "text": [
            "Epoch 1/15\n",
            "10/10 [==============================] - 10s 276ms/step - loss: 2.1618 - accuracy: 0.4899 - val_loss: 2.2395 - val_accuracy: 0.3333\n",
            "Epoch 2/15\n",
            "10/10 [==============================] - 0s 19ms/step - loss: 0.8247 - accuracy: 0.7739 - val_loss: 2.9543 - val_accuracy: 0.2083\n",
            "Epoch 3/15\n",
            "10/10 [==============================] - 0s 19ms/step - loss: 0.5167 - accuracy: 0.7768 - val_loss: 0.7589 - val_accuracy: 0.6250\n",
            "Epoch 4/15\n",
            "10/10 [==============================] - 0s 18ms/step - loss: 0.3513 - accuracy: 0.8791 - val_loss: 2.6832 - val_accuracy: 0.2917\n",
            "Epoch 5/15\n",
            "10/10 [==============================] - 0s 17ms/step - loss: 0.3342 - accuracy: 0.8841 - val_loss: 0.0782 - val_accuracy: 1.0000\n",
            "Epoch 6/15\n",
            "10/10 [==============================] - 0s 18ms/step - loss: 0.1344 - accuracy: 0.9660 - val_loss: 0.1495 - val_accuracy: 0.9583\n",
            "Epoch 7/15\n",
            "10/10 [==============================] - 0s 17ms/step - loss: 0.0978 - accuracy: 0.9798 - val_loss: 0.2422 - val_accuracy: 0.9167\n",
            "Epoch 8/15\n",
            "10/10 [==============================] - 0s 17ms/step - loss: 0.0972 - accuracy: 0.9568 - val_loss: 0.4432 - val_accuracy: 0.8333\n",
            "Epoch 9/15\n",
            "10/10 [==============================] - 0s 17ms/step - loss: 0.1160 - accuracy: 0.9614 - val_loss: 0.1992 - val_accuracy: 0.9583\n",
            "Epoch 10/15\n",
            "10/10 [==============================] - 0s 17ms/step - loss: 0.0417 - accuracy: 0.9889 - val_loss: 0.1313 - val_accuracy: 0.9583\n",
            "Epoch 11/15\n",
            "10/10 [==============================] - 0s 18ms/step - loss: 0.0720 - accuracy: 0.9766 - val_loss: 0.0346 - val_accuracy: 1.0000\n",
            "Epoch 12/15\n",
            "10/10 [==============================] - 0s 18ms/step - loss: 0.0547 - accuracy: 0.9705 - val_loss: 0.0818 - val_accuracy: 1.0000\n",
            "Epoch 13/15\n",
            "10/10 [==============================] - 0s 17ms/step - loss: 0.0428 - accuracy: 0.9945 - val_loss: 0.0161 - val_accuracy: 1.0000\n",
            "Epoch 14/15\n",
            "10/10 [==============================] - 0s 17ms/step - loss: 0.0289 - accuracy: 0.9876 - val_loss: 0.0096 - val_accuracy: 1.0000\n",
            "Epoch 15/15\n",
            "10/10 [==============================] - 0s 17ms/step - loss: 0.0380 - accuracy: 0.9913 - val_loss: 0.0223 - val_accuracy: 1.0000\n"
          ],
          "name": "stdout"
        },
        {
          "output_type": "stream",
          "text": [
            "\r 12%|█▏        | 3/25 [01:05<09:02, 24.65s/it]"
          ],
          "name": "stderr"
        },
        {
          "output_type": "stream",
          "text": [
            "Epoch 1/15\n",
            "10/10 [==============================] - 10s 268ms/step - loss: 1.6909 - accuracy: 0.5348 - val_loss: 2.2496 - val_accuracy: 0.2917\n",
            "Epoch 2/15\n",
            "10/10 [==============================] - 0s 19ms/step - loss: 1.3667 - accuracy: 0.7235 - val_loss: 0.3936 - val_accuracy: 0.8333\n",
            "Epoch 3/15\n",
            "10/10 [==============================] - 0s 18ms/step - loss: 0.4702 - accuracy: 0.7776 - val_loss: 1.1408 - val_accuracy: 0.7083\n",
            "Epoch 4/15\n",
            "10/10 [==============================] - 0s 18ms/step - loss: 0.5308 - accuracy: 0.8161 - val_loss: 0.5324 - val_accuracy: 0.7083\n",
            "Epoch 5/15\n",
            "10/10 [==============================] - 0s 17ms/step - loss: 0.1015 - accuracy: 0.9851 - val_loss: 0.0328 - val_accuracy: 1.0000\n",
            "Epoch 6/15\n",
            "10/10 [==============================] - 0s 18ms/step - loss: 0.1326 - accuracy: 0.9278 - val_loss: 0.1159 - val_accuracy: 1.0000\n",
            "Epoch 7/15\n",
            "10/10 [==============================] - 0s 18ms/step - loss: 0.0673 - accuracy: 0.9853 - val_loss: 0.1317 - val_accuracy: 1.0000\n",
            "Epoch 8/15\n",
            "10/10 [==============================] - 0s 18ms/step - loss: 0.1126 - accuracy: 0.9521 - val_loss: 0.0250 - val_accuracy: 1.0000\n",
            "Epoch 9/15\n",
            "10/10 [==============================] - 0s 17ms/step - loss: 0.0744 - accuracy: 0.9857 - val_loss: 0.0354 - val_accuracy: 1.0000\n",
            "Epoch 10/15\n",
            "10/10 [==============================] - 0s 17ms/step - loss: 0.0485 - accuracy: 0.9862 - val_loss: 0.0457 - val_accuracy: 0.9583\n",
            "Epoch 11/15\n",
            "10/10 [==============================] - 0s 17ms/step - loss: 0.0435 - accuracy: 0.9891 - val_loss: 0.0264 - val_accuracy: 1.0000\n",
            "Epoch 12/15\n",
            "10/10 [==============================] - 0s 18ms/step - loss: 0.0252 - accuracy: 1.0000 - val_loss: 0.0225 - val_accuracy: 1.0000\n",
            "Epoch 13/15\n",
            "10/10 [==============================] - 0s 17ms/step - loss: 0.0214 - accuracy: 1.0000 - val_loss: 0.0128 - val_accuracy: 1.0000\n",
            "Epoch 14/15\n",
            "10/10 [==============================] - 0s 18ms/step - loss: 0.0346 - accuracy: 0.9931 - val_loss: 0.0062 - val_accuracy: 1.0000\n",
            "Epoch 15/15\n",
            "10/10 [==============================] - 0s 18ms/step - loss: 0.0150 - accuracy: 1.0000 - val_loss: 0.0033 - val_accuracy: 1.0000\n"
          ],
          "name": "stdout"
        },
        {
          "output_type": "stream",
          "text": [
            "\r 16%|█▌        | 4/25 [01:19<07:28, 21.37s/it]"
          ],
          "name": "stderr"
        },
        {
          "output_type": "stream",
          "text": [
            "Epoch 1/15\n",
            "10/10 [==============================] - 10s 271ms/step - loss: 1.7301 - accuracy: 0.5016 - val_loss: 1.2157 - val_accuracy: 0.4583\n",
            "Epoch 2/15\n",
            "10/10 [==============================] - 0s 18ms/step - loss: 0.6346 - accuracy: 0.7570 - val_loss: 4.0669 - val_accuracy: 0.0833\n",
            "Epoch 3/15\n",
            "10/10 [==============================] - 0s 18ms/step - loss: 0.3333 - accuracy: 0.8530 - val_loss: 3.0586 - val_accuracy: 0.1250\n",
            "Epoch 4/15\n",
            "10/10 [==============================] - 0s 17ms/step - loss: 0.1859 - accuracy: 0.9270 - val_loss: 0.2867 - val_accuracy: 0.8750\n",
            "Epoch 5/15\n",
            "10/10 [==============================] - 0s 17ms/step - loss: 0.1855 - accuracy: 0.9066 - val_loss: 0.0777 - val_accuracy: 1.0000\n",
            "Epoch 6/15\n",
            "10/10 [==============================] - 0s 17ms/step - loss: 0.1013 - accuracy: 0.9512 - val_loss: 0.2828 - val_accuracy: 0.9167\n",
            "Epoch 7/15\n",
            "10/10 [==============================] - 0s 18ms/step - loss: 0.0682 - accuracy: 0.9791 - val_loss: 0.3009 - val_accuracy: 0.9167\n",
            "Epoch 8/15\n",
            "10/10 [==============================] - 0s 18ms/step - loss: 0.0552 - accuracy: 0.9784 - val_loss: 0.0211 - val_accuracy: 1.0000\n",
            "Epoch 9/15\n",
            "10/10 [==============================] - 0s 17ms/step - loss: 0.0401 - accuracy: 0.9888 - val_loss: 0.0093 - val_accuracy: 1.0000\n",
            "Epoch 10/15\n",
            "10/10 [==============================] - 0s 17ms/step - loss: 0.0574 - accuracy: 0.9812 - val_loss: 0.0657 - val_accuracy: 1.0000\n",
            "Epoch 11/15\n",
            "10/10 [==============================] - 0s 17ms/step - loss: 0.0488 - accuracy: 0.9843 - val_loss: 0.0298 - val_accuracy: 1.0000\n",
            "Epoch 12/15\n",
            "10/10 [==============================] - 0s 17ms/step - loss: 0.0608 - accuracy: 0.9945 - val_loss: 0.0180 - val_accuracy: 1.0000\n",
            "Epoch 13/15\n",
            "10/10 [==============================] - 0s 18ms/step - loss: 0.0531 - accuracy: 0.9808 - val_loss: 0.0118 - val_accuracy: 1.0000\n",
            "Epoch 14/15\n",
            "10/10 [==============================] - 0s 18ms/step - loss: 0.0313 - accuracy: 1.0000 - val_loss: 0.0047 - val_accuracy: 1.0000\n",
            "Epoch 15/15\n",
            "10/10 [==============================] - 0s 17ms/step - loss: 0.0450 - accuracy: 0.9931 - val_loss: 0.0028 - val_accuracy: 1.0000\n"
          ],
          "name": "stdout"
        },
        {
          "output_type": "stream",
          "text": [
            "\r 20%|██        | 5/25 [01:37<06:50, 20.52s/it]"
          ],
          "name": "stderr"
        },
        {
          "output_type": "stream",
          "text": [
            "Epoch 1/15\n",
            "10/10 [==============================] - 10s 268ms/step - loss: 2.3028 - accuracy: 0.5380 - val_loss: 4.7742 - val_accuracy: 0.1667\n",
            "Epoch 2/15\n",
            "10/10 [==============================] - 0s 18ms/step - loss: 0.8944 - accuracy: 0.6529 - val_loss: 1.0617 - val_accuracy: 0.6667\n",
            "Epoch 3/15\n",
            "10/10 [==============================] - 0s 18ms/step - loss: 0.8062 - accuracy: 0.7265 - val_loss: 0.3074 - val_accuracy: 0.9167\n",
            "Epoch 4/15\n",
            "10/10 [==============================] - 0s 17ms/step - loss: 0.2290 - accuracy: 0.8950 - val_loss: 0.7266 - val_accuracy: 0.6250\n",
            "Epoch 5/15\n",
            "10/10 [==============================] - 0s 18ms/step - loss: 0.1260 - accuracy: 0.9750 - val_loss: 0.5310 - val_accuracy: 0.6667\n",
            "Epoch 6/15\n",
            "10/10 [==============================] - 0s 18ms/step - loss: 0.1287 - accuracy: 0.9528 - val_loss: 0.0564 - val_accuracy: 1.0000\n",
            "Epoch 7/15\n",
            "10/10 [==============================] - 0s 17ms/step - loss: 0.0795 - accuracy: 0.9638 - val_loss: 0.0520 - val_accuracy: 1.0000\n",
            "Epoch 8/15\n",
            "10/10 [==============================] - 0s 19ms/step - loss: 0.0973 - accuracy: 0.9832 - val_loss: 0.0574 - val_accuracy: 1.0000\n",
            "Epoch 9/15\n",
            "10/10 [==============================] - 0s 17ms/step - loss: 0.0330 - accuracy: 0.9833 - val_loss: 0.0687 - val_accuracy: 1.0000\n",
            "Epoch 10/15\n",
            "10/10 [==============================] - 0s 17ms/step - loss: 0.0820 - accuracy: 0.9608 - val_loss: 0.1702 - val_accuracy: 0.9583\n",
            "Epoch 11/15\n",
            "10/10 [==============================] - 0s 18ms/step - loss: 0.0686 - accuracy: 0.9741 - val_loss: 0.0152 - val_accuracy: 1.0000\n",
            "Epoch 12/15\n",
            "10/10 [==============================] - 0s 17ms/step - loss: 0.0731 - accuracy: 0.9754 - val_loss: 0.0423 - val_accuracy: 1.0000\n",
            "Epoch 13/15\n",
            "10/10 [==============================] - 0s 17ms/step - loss: 0.0280 - accuracy: 1.0000 - val_loss: 0.0362 - val_accuracy: 1.0000\n",
            "Epoch 14/15\n",
            "10/10 [==============================] - 0s 16ms/step - loss: 0.0241 - accuracy: 0.9966 - val_loss: 0.0224 - val_accuracy: 1.0000\n",
            "Epoch 15/15\n",
            "10/10 [==============================] - 0s 18ms/step - loss: 0.0147 - accuracy: 0.9988 - val_loss: 0.0036 - val_accuracy: 1.0000\n"
          ],
          "name": "stdout"
        },
        {
          "output_type": "stream",
          "text": [
            "\r 24%|██▍       | 6/25 [01:56<06:18, 19.92s/it]"
          ],
          "name": "stderr"
        },
        {
          "output_type": "stream",
          "text": [
            "Epoch 1/15\n",
            "10/10 [==============================] - 9s 272ms/step - loss: 1.7265 - accuracy: 0.5272 - val_loss: 6.0099 - val_accuracy: 0.0833\n",
            "Epoch 2/15\n",
            "10/10 [==============================] - 0s 18ms/step - loss: 0.6799 - accuracy: 0.7462 - val_loss: 2.1669 - val_accuracy: 0.1667\n",
            "Epoch 3/15\n",
            "10/10 [==============================] - 0s 19ms/step - loss: 0.4414 - accuracy: 0.8066 - val_loss: 1.4923 - val_accuracy: 0.3333\n",
            "Epoch 4/15\n",
            "10/10 [==============================] - 0s 18ms/step - loss: 0.3056 - accuracy: 0.8830 - val_loss: 2.2063 - val_accuracy: 0.2083\n",
            "Epoch 5/15\n",
            "10/10 [==============================] - 0s 18ms/step - loss: 0.1880 - accuracy: 0.9120 - val_loss: 0.0786 - val_accuracy: 1.0000\n",
            "Epoch 6/15\n",
            "10/10 [==============================] - 0s 18ms/step - loss: 0.1250 - accuracy: 0.9556 - val_loss: 0.8852 - val_accuracy: 0.5417\n",
            "Epoch 7/15\n",
            "10/10 [==============================] - 0s 17ms/step - loss: 0.0678 - accuracy: 0.9905 - val_loss: 0.2727 - val_accuracy: 0.8750\n",
            "Epoch 8/15\n",
            "10/10 [==============================] - 0s 17ms/step - loss: 0.0770 - accuracy: 0.9793 - val_loss: 0.1967 - val_accuracy: 1.0000\n",
            "Epoch 9/15\n",
            "10/10 [==============================] - 0s 19ms/step - loss: 0.0296 - accuracy: 1.0000 - val_loss: 0.0308 - val_accuracy: 1.0000\n",
            "Epoch 10/15\n",
            "10/10 [==============================] - 0s 17ms/step - loss: 0.0541 - accuracy: 0.9758 - val_loss: 0.0245 - val_accuracy: 1.0000\n",
            "Epoch 11/15\n",
            "10/10 [==============================] - 0s 18ms/step - loss: 0.0325 - accuracy: 0.9966 - val_loss: 0.0112 - val_accuracy: 1.0000\n",
            "Epoch 12/15\n",
            "10/10 [==============================] - 0s 16ms/step - loss: 0.0150 - accuracy: 1.0000 - val_loss: 0.0042 - val_accuracy: 1.0000\n",
            "Epoch 13/15\n",
            "10/10 [==============================] - 0s 17ms/step - loss: 0.0215 - accuracy: 1.0000 - val_loss: 0.0022 - val_accuracy: 1.0000\n",
            "Epoch 14/15\n",
            "10/10 [==============================] - 0s 17ms/step - loss: 0.0141 - accuracy: 1.0000 - val_loss: 0.0027 - val_accuracy: 1.0000\n",
            "Epoch 15/15\n",
            "10/10 [==============================] - 0s 17ms/step - loss: 0.0203 - accuracy: 0.9966 - val_loss: 0.0047 - val_accuracy: 1.0000\n"
          ],
          "name": "stdout"
        },
        {
          "output_type": "stream",
          "text": [
            "\r 28%|██▊       | 7/25 [02:09<05:24, 18.02s/it]"
          ],
          "name": "stderr"
        },
        {
          "output_type": "stream",
          "text": [
            "Epoch 1/15\n",
            "10/10 [==============================] - 9s 272ms/step - loss: 1.9106 - accuracy: 0.4287 - val_loss: 3.7425 - val_accuracy: 0.0833\n",
            "Epoch 2/15\n",
            "10/10 [==============================] - 0s 19ms/step - loss: 0.9630 - accuracy: 0.7267 - val_loss: 3.1047 - val_accuracy: 0.1250\n",
            "Epoch 3/15\n",
            "10/10 [==============================] - 0s 18ms/step - loss: 0.5062 - accuracy: 0.8070 - val_loss: 4.8190 - val_accuracy: 0.1250\n",
            "Epoch 4/15\n",
            "10/10 [==============================] - 0s 18ms/step - loss: 0.3170 - accuracy: 0.8619 - val_loss: 0.9817 - val_accuracy: 0.5417\n",
            "Epoch 5/15\n",
            "10/10 [==============================] - 0s 17ms/step - loss: 0.3701 - accuracy: 0.8593 - val_loss: 0.9555 - val_accuracy: 0.6250\n",
            "Epoch 6/15\n",
            "10/10 [==============================] - 0s 17ms/step - loss: 0.0978 - accuracy: 0.9703 - val_loss: 0.5795 - val_accuracy: 0.7083\n",
            "Epoch 7/15\n",
            "10/10 [==============================] - 0s 17ms/step - loss: 0.1201 - accuracy: 0.9546 - val_loss: 0.0730 - val_accuracy: 1.0000\n",
            "Epoch 8/15\n",
            "10/10 [==============================] - 0s 17ms/step - loss: 0.1473 - accuracy: 0.9507 - val_loss: 0.0131 - val_accuracy: 1.0000\n",
            "Epoch 9/15\n",
            "10/10 [==============================] - 0s 17ms/step - loss: 0.0716 - accuracy: 0.9642 - val_loss: 0.0158 - val_accuracy: 1.0000\n",
            "Epoch 10/15\n",
            "10/10 [==============================] - 0s 18ms/step - loss: 0.0494 - accuracy: 0.9878 - val_loss: 0.0247 - val_accuracy: 1.0000\n",
            "Epoch 11/15\n",
            "10/10 [==============================] - 0s 17ms/step - loss: 0.0661 - accuracy: 0.9760 - val_loss: 0.0075 - val_accuracy: 1.0000\n",
            "Epoch 12/15\n",
            "10/10 [==============================] - 0s 18ms/step - loss: 0.0266 - accuracy: 1.0000 - val_loss: 0.0044 - val_accuracy: 1.0000\n",
            "Epoch 13/15\n",
            "10/10 [==============================] - 0s 17ms/step - loss: 0.0251 - accuracy: 0.9931 - val_loss: 0.0051 - val_accuracy: 1.0000\n",
            "Epoch 14/15\n",
            "10/10 [==============================] - 0s 19ms/step - loss: 0.0433 - accuracy: 1.0000 - val_loss: 0.0048 - val_accuracy: 1.0000\n",
            "Epoch 15/15\n",
            "10/10 [==============================] - 0s 19ms/step - loss: 0.0320 - accuracy: 1.0000 - val_loss: 0.0032 - val_accuracy: 1.0000\n"
          ],
          "name": "stdout"
        },
        {
          "output_type": "stream",
          "text": [
            "\r 32%|███▏      | 8/25 [02:23<04:46, 16.85s/it]"
          ],
          "name": "stderr"
        },
        {
          "output_type": "stream",
          "text": [
            "Epoch 1/15\n",
            "10/10 [==============================] - 10s 355ms/step - loss: 2.1070 - accuracy: 0.4404 - val_loss: 5.3563 - val_accuracy: 0.0833\n",
            "Epoch 2/15\n",
            "10/10 [==============================] - 0s 19ms/step - loss: 1.5198 - accuracy: 0.5269 - val_loss: 0.9834 - val_accuracy: 0.7500\n",
            "Epoch 3/15\n",
            "10/10 [==============================] - 0s 18ms/step - loss: 0.4655 - accuracy: 0.8115 - val_loss: 0.7564 - val_accuracy: 0.6250\n",
            "Epoch 4/15\n",
            "10/10 [==============================] - 0s 18ms/step - loss: 0.2697 - accuracy: 0.8852 - val_loss: 0.6484 - val_accuracy: 0.6667\n",
            "Epoch 5/15\n",
            "10/10 [==============================] - 0s 19ms/step - loss: 0.2105 - accuracy: 0.9108 - val_loss: 0.2296 - val_accuracy: 0.9167\n",
            "Epoch 6/15\n",
            "10/10 [==============================] - 0s 19ms/step - loss: 0.1730 - accuracy: 0.9305 - val_loss: 0.1662 - val_accuracy: 0.9583\n",
            "Epoch 7/15\n",
            "10/10 [==============================] - 0s 18ms/step - loss: 0.1175 - accuracy: 0.9489 - val_loss: 0.0404 - val_accuracy: 1.0000\n",
            "Epoch 8/15\n",
            "10/10 [==============================] - 0s 17ms/step - loss: 0.0512 - accuracy: 0.9777 - val_loss: 0.0386 - val_accuracy: 1.0000\n",
            "Epoch 9/15\n",
            "10/10 [==============================] - 0s 18ms/step - loss: 0.0762 - accuracy: 0.9829 - val_loss: 0.4736 - val_accuracy: 0.6667\n",
            "Epoch 10/15\n",
            "10/10 [==============================] - 0s 19ms/step - loss: 0.0457 - accuracy: 1.0000 - val_loss: 0.0784 - val_accuracy: 1.0000\n",
            "Epoch 11/15\n",
            "10/10 [==============================] - 0s 17ms/step - loss: 0.0232 - accuracy: 0.9981 - val_loss: 0.0168 - val_accuracy: 1.0000\n",
            "Epoch 12/15\n",
            "10/10 [==============================] - 0s 18ms/step - loss: 0.0166 - accuracy: 1.0000 - val_loss: 0.0210 - val_accuracy: 1.0000\n",
            "Epoch 13/15\n",
            "10/10 [==============================] - 0s 20ms/step - loss: 0.0104 - accuracy: 1.0000 - val_loss: 0.0143 - val_accuracy: 1.0000\n",
            "Epoch 14/15\n",
            "10/10 [==============================] - 0s 17ms/step - loss: 0.0341 - accuracy: 1.0000 - val_loss: 0.0042 - val_accuracy: 1.0000\n",
            "Epoch 15/15\n",
            "10/10 [==============================] - 0s 17ms/step - loss: 0.0241 - accuracy: 0.9932 - val_loss: 0.0117 - val_accuracy: 1.0000\n"
          ],
          "name": "stdout"
        },
        {
          "output_type": "stream",
          "text": [
            "\r 36%|███▌      | 9/25 [02:42<04:36, 17.26s/it]"
          ],
          "name": "stderr"
        },
        {
          "output_type": "stream",
          "text": [
            "Epoch 1/15\n",
            "10/10 [==============================] - 10s 289ms/step - loss: 2.2083 - accuracy: 0.4701 - val_loss: 1.1243 - val_accuracy: 0.5417\n",
            "Epoch 2/15\n",
            "10/10 [==============================] - 0s 19ms/step - loss: 0.9753 - accuracy: 0.7434 - val_loss: 6.1492 - val_accuracy: 0.0833\n",
            "Epoch 3/15\n",
            "10/10 [==============================] - 0s 20ms/step - loss: 0.5753 - accuracy: 0.8141 - val_loss: 0.7291 - val_accuracy: 0.8750\n",
            "Epoch 4/15\n",
            "10/10 [==============================] - 0s 19ms/step - loss: 0.1804 - accuracy: 0.9078 - val_loss: 0.1619 - val_accuracy: 0.9167\n",
            "Epoch 5/15\n",
            "10/10 [==============================] - 0s 17ms/step - loss: 0.2011 - accuracy: 0.9420 - val_loss: 0.1673 - val_accuracy: 1.0000\n",
            "Epoch 6/15\n",
            "10/10 [==============================] - 0s 17ms/step - loss: 0.1106 - accuracy: 0.9649 - val_loss: 0.0412 - val_accuracy: 1.0000\n",
            "Epoch 7/15\n",
            "10/10 [==============================] - 0s 18ms/step - loss: 0.0785 - accuracy: 0.9423 - val_loss: 0.0247 - val_accuracy: 1.0000\n",
            "Epoch 8/15\n",
            "10/10 [==============================] - 0s 17ms/step - loss: 0.0451 - accuracy: 0.9876 - val_loss: 0.0140 - val_accuracy: 1.0000\n",
            "Epoch 9/15\n",
            "10/10 [==============================] - 0s 18ms/step - loss: 0.0537 - accuracy: 0.9872 - val_loss: 0.1716 - val_accuracy: 0.9583\n",
            "Epoch 10/15\n",
            "10/10 [==============================] - 0s 17ms/step - loss: 0.0644 - accuracy: 0.9865 - val_loss: 0.0261 - val_accuracy: 1.0000\n",
            "Epoch 11/15\n",
            "10/10 [==============================] - 0s 17ms/step - loss: 0.0611 - accuracy: 0.9760 - val_loss: 0.0137 - val_accuracy: 1.0000\n",
            "Epoch 12/15\n",
            "10/10 [==============================] - 0s 18ms/step - loss: 0.0377 - accuracy: 0.9945 - val_loss: 0.0195 - val_accuracy: 1.0000\n",
            "Epoch 13/15\n",
            "10/10 [==============================] - 0s 17ms/step - loss: 0.0400 - accuracy: 0.9913 - val_loss: 0.0277 - val_accuracy: 1.0000\n",
            "Epoch 14/15\n",
            "10/10 [==============================] - 0s 17ms/step - loss: 0.0431 - accuracy: 0.9945 - val_loss: 0.0024 - val_accuracy: 1.0000\n",
            "Epoch 15/15\n",
            "10/10 [==============================] - 0s 17ms/step - loss: 0.0339 - accuracy: 0.9829 - val_loss: 0.0019 - val_accuracy: 1.0000\n"
          ],
          "name": "stdout"
        },
        {
          "output_type": "stream",
          "text": [
            "\r 40%|████      | 10/25 [02:55<04:02, 16.18s/it]"
          ],
          "name": "stderr"
        },
        {
          "output_type": "stream",
          "text": [
            "Epoch 1/15\n",
            "10/10 [==============================] - 10s 383ms/step - loss: 1.6497 - accuracy: 0.5987 - val_loss: 6.7784 - val_accuracy: 0.0833\n",
            "Epoch 2/15\n",
            "10/10 [==============================] - 0s 19ms/step - loss: 1.0568 - accuracy: 0.7157 - val_loss: 0.5144 - val_accuracy: 0.8333\n",
            "Epoch 3/15\n",
            "10/10 [==============================] - 0s 18ms/step - loss: 0.8088 - accuracy: 0.7088 - val_loss: 1.8129 - val_accuracy: 0.6250\n",
            "Epoch 4/15\n",
            "10/10 [==============================] - 0s 18ms/step - loss: 0.5741 - accuracy: 0.8119 - val_loss: 1.2160 - val_accuracy: 0.4167\n",
            "Epoch 5/15\n",
            "10/10 [==============================] - 0s 18ms/step - loss: 0.2853 - accuracy: 0.8504 - val_loss: 0.0765 - val_accuracy: 1.0000\n",
            "Epoch 6/15\n",
            "10/10 [==============================] - 0s 17ms/step - loss: 0.0951 - accuracy: 0.9722 - val_loss: 0.6787 - val_accuracy: 0.6667\n",
            "Epoch 7/15\n",
            "10/10 [==============================] - 0s 19ms/step - loss: 0.1744 - accuracy: 0.9368 - val_loss: 0.1223 - val_accuracy: 1.0000\n",
            "Epoch 8/15\n",
            "10/10 [==============================] - 0s 18ms/step - loss: 0.1147 - accuracy: 0.9149 - val_loss: 0.0284 - val_accuracy: 1.0000\n",
            "Epoch 9/15\n",
            "10/10 [==============================] - 0s 17ms/step - loss: 0.0422 - accuracy: 0.9945 - val_loss: 0.0283 - val_accuracy: 1.0000\n",
            "Epoch 10/15\n",
            "10/10 [==============================] - 0s 17ms/step - loss: 0.0599 - accuracy: 0.9760 - val_loss: 0.0617 - val_accuracy: 1.0000\n",
            "Epoch 11/15\n",
            "10/10 [==============================] - 0s 19ms/step - loss: 0.0521 - accuracy: 0.9833 - val_loss: 0.0221 - val_accuracy: 1.0000\n",
            "Epoch 12/15\n",
            "10/10 [==============================] - 0s 16ms/step - loss: 0.0520 - accuracy: 0.9912 - val_loss: 0.0052 - val_accuracy: 1.0000\n",
            "Epoch 13/15\n",
            "10/10 [==============================] - 0s 18ms/step - loss: 0.0505 - accuracy: 0.9585 - val_loss: 0.0131 - val_accuracy: 1.0000\n",
            "Epoch 14/15\n",
            "10/10 [==============================] - 0s 17ms/step - loss: 0.0172 - accuracy: 0.9974 - val_loss: 0.0064 - val_accuracy: 1.0000\n",
            "Epoch 15/15\n",
            "10/10 [==============================] - 0s 17ms/step - loss: 0.0187 - accuracy: 1.0000 - val_loss: 0.0033 - val_accuracy: 1.0000\n"
          ],
          "name": "stdout"
        },
        {
          "output_type": "stream",
          "text": [
            "\r 44%|████▍     | 11/25 [03:13<03:54, 16.74s/it]"
          ],
          "name": "stderr"
        },
        {
          "output_type": "stream",
          "text": [
            "Epoch 1/15\n",
            "10/10 [==============================] - 9s 274ms/step - loss: 1.5687 - accuracy: 0.5418 - val_loss: 0.7675 - val_accuracy: 0.5000\n",
            "Epoch 2/15\n",
            "10/10 [==============================] - 0s 20ms/step - loss: 0.7314 - accuracy: 0.7530 - val_loss: 4.2153 - val_accuracy: 0.1667\n",
            "Epoch 3/15\n",
            "10/10 [==============================] - 0s 19ms/step - loss: 0.3307 - accuracy: 0.8405 - val_loss: 2.3665 - val_accuracy: 0.2083\n",
            "Epoch 4/15\n",
            "10/10 [==============================] - 0s 18ms/step - loss: 0.1925 - accuracy: 0.9107 - val_loss: 0.6377 - val_accuracy: 0.7083\n",
            "Epoch 5/15\n",
            "10/10 [==============================] - 0s 18ms/step - loss: 0.1395 - accuracy: 0.9416 - val_loss: 0.2637 - val_accuracy: 0.8750\n",
            "Epoch 6/15\n",
            "10/10 [==============================] - 0s 17ms/step - loss: 0.1329 - accuracy: 0.9658 - val_loss: 0.6184 - val_accuracy: 0.6667\n",
            "Epoch 7/15\n",
            "10/10 [==============================] - 0s 17ms/step - loss: 0.0789 - accuracy: 0.9755 - val_loss: 0.1352 - val_accuracy: 0.9583\n",
            "Epoch 8/15\n",
            "10/10 [==============================] - 0s 18ms/step - loss: 0.0501 - accuracy: 0.9846 - val_loss: 0.2228 - val_accuracy: 0.9583\n",
            "Epoch 9/15\n",
            "10/10 [==============================] - 0s 17ms/step - loss: 0.0907 - accuracy: 0.9727 - val_loss: 0.0415 - val_accuracy: 1.0000\n",
            "Epoch 10/15\n",
            "10/10 [==============================] - 0s 18ms/step - loss: 0.0817 - accuracy: 0.9731 - val_loss: 0.2090 - val_accuracy: 0.9583\n",
            "Epoch 11/15\n",
            "10/10 [==============================] - 0s 17ms/step - loss: 0.0960 - accuracy: 0.9468 - val_loss: 0.0189 - val_accuracy: 1.0000\n",
            "Epoch 12/15\n",
            "10/10 [==============================] - 0s 17ms/step - loss: 0.0629 - accuracy: 0.9894 - val_loss: 0.0654 - val_accuracy: 1.0000\n",
            "Epoch 13/15\n",
            "10/10 [==============================] - 0s 17ms/step - loss: 0.0332 - accuracy: 0.9956 - val_loss: 0.0243 - val_accuracy: 1.0000\n",
            "Epoch 14/15\n",
            "10/10 [==============================] - 0s 17ms/step - loss: 0.0353 - accuracy: 0.9974 - val_loss: 0.0238 - val_accuracy: 1.0000\n",
            "Epoch 15/15\n",
            "10/10 [==============================] - 0s 18ms/step - loss: 0.0766 - accuracy: 0.9777 - val_loss: 0.5577 - val_accuracy: 0.7500\n"
          ],
          "name": "stdout"
        },
        {
          "output_type": "stream",
          "text": [
            "\r 48%|████▊     | 12/25 [03:27<03:25, 15.80s/it]"
          ],
          "name": "stderr"
        },
        {
          "output_type": "stream",
          "text": [
            "Epoch 1/15\n",
            "10/10 [==============================] - 10s 274ms/step - loss: 2.0243 - accuracy: 0.3880 - val_loss: 3.3601 - val_accuracy: 0.1667\n",
            "Epoch 2/15\n",
            "10/10 [==============================] - 0s 18ms/step - loss: 0.9098 - accuracy: 0.6633 - val_loss: 5.5795 - val_accuracy: 0.0833\n",
            "Epoch 3/15\n",
            "10/10 [==============================] - 0s 18ms/step - loss: 0.4975 - accuracy: 0.8000 - val_loss: 0.5943 - val_accuracy: 0.8750\n",
            "Epoch 4/15\n",
            "10/10 [==============================] - 0s 18ms/step - loss: 0.4019 - accuracy: 0.8758 - val_loss: 0.5287 - val_accuracy: 0.7917\n",
            "Epoch 5/15\n",
            "10/10 [==============================] - 0s 19ms/step - loss: 0.2547 - accuracy: 0.8989 - val_loss: 0.5632 - val_accuracy: 0.6667\n",
            "Epoch 6/15\n",
            "10/10 [==============================] - 0s 18ms/step - loss: 0.1134 - accuracy: 0.9630 - val_loss: 0.3407 - val_accuracy: 0.7917\n",
            "Epoch 7/15\n",
            "10/10 [==============================] - 0s 17ms/step - loss: 0.0773 - accuracy: 0.9692 - val_loss: 0.0230 - val_accuracy: 1.0000\n",
            "Epoch 8/15\n",
            "10/10 [==============================] - 0s 17ms/step - loss: 0.0591 - accuracy: 0.9858 - val_loss: 0.0455 - val_accuracy: 1.0000\n",
            "Epoch 9/15\n",
            "10/10 [==============================] - 0s 17ms/step - loss: 0.0847 - accuracy: 0.9815 - val_loss: 0.0849 - val_accuracy: 0.9583\n",
            "Epoch 10/15\n",
            "10/10 [==============================] - 0s 17ms/step - loss: 0.0624 - accuracy: 0.9722 - val_loss: 0.0236 - val_accuracy: 1.0000\n",
            "Epoch 11/15\n",
            "10/10 [==============================] - 0s 17ms/step - loss: 0.0650 - accuracy: 0.9669 - val_loss: 0.0172 - val_accuracy: 1.0000\n",
            "Epoch 12/15\n",
            "10/10 [==============================] - 0s 17ms/step - loss: 0.1356 - accuracy: 0.9483 - val_loss: 0.0095 - val_accuracy: 1.0000\n",
            "Epoch 13/15\n",
            "10/10 [==============================] - 0s 18ms/step - loss: 0.1093 - accuracy: 0.9408 - val_loss: 0.0363 - val_accuracy: 1.0000\n",
            "Epoch 14/15\n",
            "10/10 [==============================] - 0s 18ms/step - loss: 0.0636 - accuracy: 0.9851 - val_loss: 0.0078 - val_accuracy: 1.0000\n",
            "Epoch 15/15\n",
            "10/10 [==============================] - 0s 17ms/step - loss: 0.0597 - accuracy: 0.9793 - val_loss: 0.0024 - val_accuracy: 1.0000\n"
          ],
          "name": "stdout"
        },
        {
          "output_type": "stream",
          "text": [
            "\r 52%|█████▏    | 13/25 [03:41<03:01, 15.15s/it]"
          ],
          "name": "stderr"
        },
        {
          "output_type": "stream",
          "text": [
            "Epoch 1/15\n",
            "10/10 [==============================] - 11s 275ms/step - loss: 2.3095 - accuracy: 0.4253 - val_loss: 1.4105 - val_accuracy: 0.5000\n",
            "Epoch 2/15\n",
            "10/10 [==============================] - 0s 19ms/step - loss: 0.6266 - accuracy: 0.7885 - val_loss: 11.1516 - val_accuracy: 0.0833\n",
            "Epoch 3/15\n",
            "10/10 [==============================] - 0s 18ms/step - loss: 0.7829 - accuracy: 0.7067 - val_loss: 0.4208 - val_accuracy: 0.8333\n",
            "Epoch 4/15\n",
            "10/10 [==============================] - 0s 18ms/step - loss: 0.3965 - accuracy: 0.8611 - val_loss: 0.1809 - val_accuracy: 0.9167\n",
            "Epoch 5/15\n",
            "10/10 [==============================] - 0s 17ms/step - loss: 0.1829 - accuracy: 0.9298 - val_loss: 0.0850 - val_accuracy: 1.0000\n",
            "Epoch 6/15\n",
            "10/10 [==============================] - 0s 19ms/step - loss: 0.1373 - accuracy: 0.9453 - val_loss: 0.1140 - val_accuracy: 1.0000\n",
            "Epoch 7/15\n",
            "10/10 [==============================] - 0s 17ms/step - loss: 0.0824 - accuracy: 0.9724 - val_loss: 0.0460 - val_accuracy: 1.0000\n",
            "Epoch 8/15\n",
            "10/10 [==============================] - 0s 17ms/step - loss: 0.0666 - accuracy: 0.9887 - val_loss: 0.0188 - val_accuracy: 1.0000\n",
            "Epoch 9/15\n",
            "10/10 [==============================] - 0s 18ms/step - loss: 0.0548 - accuracy: 0.9846 - val_loss: 0.0147 - val_accuracy: 1.0000\n",
            "Epoch 10/15\n",
            "10/10 [==============================] - 0s 17ms/step - loss: 0.0631 - accuracy: 0.9758 - val_loss: 0.0150 - val_accuracy: 1.0000\n",
            "Epoch 11/15\n",
            "10/10 [==============================] - 0s 18ms/step - loss: 0.0538 - accuracy: 0.9855 - val_loss: 0.0249 - val_accuracy: 1.0000\n",
            "Epoch 12/15\n",
            "10/10 [==============================] - 0s 19ms/step - loss: 0.0845 - accuracy: 0.9572 - val_loss: 0.0054 - val_accuracy: 1.0000\n",
            "Epoch 13/15\n",
            "10/10 [==============================] - 0s 17ms/step - loss: 0.0482 - accuracy: 0.9833 - val_loss: 0.0022 - val_accuracy: 1.0000\n",
            "Epoch 14/15\n",
            "10/10 [==============================] - 0s 17ms/step - loss: 0.0442 - accuracy: 0.9793 - val_loss: 0.0163 - val_accuracy: 1.0000\n",
            "Epoch 15/15\n",
            "10/10 [==============================] - 0s 17ms/step - loss: 0.0171 - accuracy: 1.0000 - val_loss: 0.0095 - val_accuracy: 1.0000\n"
          ],
          "name": "stdout"
        },
        {
          "output_type": "stream",
          "text": [
            "\r 56%|█████▌    | 14/25 [03:56<02:45, 15.07s/it]"
          ],
          "name": "stderr"
        },
        {
          "output_type": "stream",
          "text": [
            "Epoch 1/15\n",
            "10/10 [==============================] - 9s 275ms/step - loss: 2.0829 - accuracy: 0.4339 - val_loss: 1.9851 - val_accuracy: 0.2500\n",
            "Epoch 2/15\n",
            "10/10 [==============================] - 0s 19ms/step - loss: 0.6521 - accuracy: 0.7770 - val_loss: 5.4105 - val_accuracy: 0.0833\n",
            "Epoch 3/15\n",
            "10/10 [==============================] - 0s 19ms/step - loss: 0.3771 - accuracy: 0.8838 - val_loss: 0.5941 - val_accuracy: 0.7500\n",
            "Epoch 4/15\n",
            "10/10 [==============================] - 0s 19ms/step - loss: 0.2639 - accuracy: 0.8930 - val_loss: 1.8640 - val_accuracy: 0.2083\n",
            "Epoch 5/15\n",
            "10/10 [==============================] - 0s 18ms/step - loss: 0.1792 - accuracy: 0.9354 - val_loss: 0.5101 - val_accuracy: 0.7500\n",
            "Epoch 6/15\n",
            "10/10 [==============================] - 0s 19ms/step - loss: 0.1005 - accuracy: 0.9578 - val_loss: 0.0957 - val_accuracy: 1.0000\n",
            "Epoch 7/15\n",
            "10/10 [==============================] - 0s 18ms/step - loss: 0.0659 - accuracy: 0.9791 - val_loss: 0.1185 - val_accuracy: 1.0000\n",
            "Epoch 8/15\n",
            "10/10 [==============================] - 0s 18ms/step - loss: 0.0599 - accuracy: 0.9886 - val_loss: 0.0872 - val_accuracy: 1.0000\n",
            "Epoch 9/15\n",
            "10/10 [==============================] - 0s 19ms/step - loss: 0.1064 - accuracy: 0.9647 - val_loss: 0.0624 - val_accuracy: 1.0000\n",
            "Epoch 10/15\n",
            "10/10 [==============================] - 0s 17ms/step - loss: 0.0306 - accuracy: 0.9864 - val_loss: 0.0444 - val_accuracy: 1.0000\n",
            "Epoch 11/15\n",
            "10/10 [==============================] - 0s 17ms/step - loss: 0.0596 - accuracy: 0.9689 - val_loss: 0.0707 - val_accuracy: 1.0000\n",
            "Epoch 12/15\n",
            "10/10 [==============================] - 0s 18ms/step - loss: 0.0488 - accuracy: 0.9719 - val_loss: 0.0061 - val_accuracy: 1.0000\n",
            "Epoch 13/15\n",
            "10/10 [==============================] - 0s 17ms/step - loss: 0.0481 - accuracy: 0.9808 - val_loss: 0.0449 - val_accuracy: 1.0000\n",
            "Epoch 14/15\n",
            "10/10 [==============================] - 0s 18ms/step - loss: 0.0490 - accuracy: 0.9912 - val_loss: 0.0223 - val_accuracy: 1.0000\n",
            "Epoch 15/15\n",
            "10/10 [==============================] - 0s 18ms/step - loss: 0.0479 - accuracy: 0.9884 - val_loss: 0.0032 - val_accuracy: 1.0000\n"
          ],
          "name": "stdout"
        },
        {
          "output_type": "stream",
          "text": [
            "\r 60%|██████    | 15/25 [04:09<02:26, 14.64s/it]"
          ],
          "name": "stderr"
        },
        {
          "output_type": "stream",
          "text": [
            "Epoch 1/15\n",
            "10/10 [==============================] - 9s 272ms/step - loss: 1.8375 - accuracy: 0.4730 - val_loss: 7.8750 - val_accuracy: 0.0833\n",
            "Epoch 2/15\n",
            "10/10 [==============================] - 0s 20ms/step - loss: 0.7527 - accuracy: 0.7501 - val_loss: 2.9787 - val_accuracy: 0.2500\n",
            "Epoch 3/15\n",
            "10/10 [==============================] - 0s 18ms/step - loss: 0.4164 - accuracy: 0.8549 - val_loss: 0.1805 - val_accuracy: 0.9583\n",
            "Epoch 4/15\n",
            "10/10 [==============================] - 0s 18ms/step - loss: 0.2035 - accuracy: 0.9205 - val_loss: 0.9019 - val_accuracy: 0.7083\n",
            "Epoch 5/15\n",
            "10/10 [==============================] - 0s 18ms/step - loss: 0.1576 - accuracy: 0.9462 - val_loss: 0.4489 - val_accuracy: 0.7500\n",
            "Epoch 6/15\n",
            "10/10 [==============================] - 0s 17ms/step - loss: 0.1072 - accuracy: 0.9670 - val_loss: 0.1481 - val_accuracy: 0.9583\n",
            "Epoch 7/15\n",
            "10/10 [==============================] - 0s 18ms/step - loss: 0.1029 - accuracy: 0.9725 - val_loss: 0.1988 - val_accuracy: 0.9167\n",
            "Epoch 8/15\n",
            "10/10 [==============================] - 0s 18ms/step - loss: 0.0849 - accuracy: 0.9800 - val_loss: 0.0588 - val_accuracy: 1.0000\n",
            "Epoch 9/15\n",
            "10/10 [==============================] - 0s 17ms/step - loss: 0.0373 - accuracy: 1.0000 - val_loss: 0.0401 - val_accuracy: 1.0000\n",
            "Epoch 10/15\n",
            "10/10 [==============================] - 0s 18ms/step - loss: 0.0640 - accuracy: 0.9897 - val_loss: 0.0268 - val_accuracy: 1.0000\n",
            "Epoch 11/15\n",
            "10/10 [==============================] - 0s 17ms/step - loss: 0.0464 - accuracy: 0.9792 - val_loss: 0.0052 - val_accuracy: 1.0000\n",
            "Epoch 12/15\n",
            "10/10 [==============================] - 0s 17ms/step - loss: 0.0331 - accuracy: 0.9803 - val_loss: 0.0044 - val_accuracy: 1.0000\n",
            "Epoch 13/15\n",
            "10/10 [==============================] - 0s 18ms/step - loss: 0.0495 - accuracy: 0.9739 - val_loss: 0.0114 - val_accuracy: 1.0000\n",
            "Epoch 14/15\n",
            "10/10 [==============================] - 0s 17ms/step - loss: 0.0313 - accuracy: 0.9894 - val_loss: 0.0584 - val_accuracy: 1.0000\n",
            "Epoch 15/15\n",
            "10/10 [==============================] - 0s 17ms/step - loss: 0.0327 - accuracy: 0.9966 - val_loss: 0.0038 - val_accuracy: 1.0000\n"
          ],
          "name": "stdout"
        },
        {
          "output_type": "stream",
          "text": [
            "\r 64%|██████▍   | 16/25 [04:23<02:08, 14.31s/it]"
          ],
          "name": "stderr"
        },
        {
          "output_type": "stream",
          "text": [
            "Epoch 1/15\n",
            "10/10 [==============================] - 11s 290ms/step - loss: 2.0643 - accuracy: 0.4897 - val_loss: 2.2785 - val_accuracy: 0.2917\n",
            "Epoch 2/15\n",
            "10/10 [==============================] - 0s 20ms/step - loss: 0.5958 - accuracy: 0.7714 - val_loss: 3.4266 - val_accuracy: 0.1250\n",
            "Epoch 3/15\n",
            "10/10 [==============================] - 0s 20ms/step - loss: 0.4305 - accuracy: 0.8251 - val_loss: 0.9021 - val_accuracy: 0.5417\n",
            "Epoch 4/15\n",
            "10/10 [==============================] - 0s 18ms/step - loss: 0.2129 - accuracy: 0.8936 - val_loss: 1.9011 - val_accuracy: 0.3333\n",
            "Epoch 5/15\n",
            "10/10 [==============================] - 0s 17ms/step - loss: 0.1633 - accuracy: 0.8858 - val_loss: 0.1987 - val_accuracy: 0.9583\n",
            "Epoch 6/15\n",
            "10/10 [==============================] - 0s 17ms/step - loss: 0.1297 - accuracy: 0.9483 - val_loss: 0.1030 - val_accuracy: 1.0000\n",
            "Epoch 7/15\n",
            "10/10 [==============================] - 0s 18ms/step - loss: 0.0589 - accuracy: 0.9932 - val_loss: 0.0933 - val_accuracy: 1.0000\n",
            "Epoch 8/15\n",
            "10/10 [==============================] - 0s 18ms/step - loss: 0.0722 - accuracy: 0.9689 - val_loss: 0.0919 - val_accuracy: 1.0000\n",
            "Epoch 9/15\n",
            "10/10 [==============================] - 0s 17ms/step - loss: 0.0451 - accuracy: 0.9945 - val_loss: 0.0663 - val_accuracy: 1.0000\n",
            "Epoch 10/15\n",
            "10/10 [==============================] - 0s 18ms/step - loss: 0.0855 - accuracy: 0.9750 - val_loss: 0.0591 - val_accuracy: 1.0000\n",
            "Epoch 11/15\n",
            "10/10 [==============================] - 0s 17ms/step - loss: 0.0505 - accuracy: 0.9724 - val_loss: 0.0890 - val_accuracy: 1.0000\n",
            "Epoch 12/15\n",
            "10/10 [==============================] - 0s 17ms/step - loss: 0.0340 - accuracy: 0.9912 - val_loss: 0.0135 - val_accuracy: 1.0000\n",
            "Epoch 13/15\n",
            "10/10 [==============================] - 0s 18ms/step - loss: 0.0200 - accuracy: 0.9963 - val_loss: 0.0040 - val_accuracy: 1.0000\n",
            "Epoch 14/15\n",
            "10/10 [==============================] - 0s 18ms/step - loss: 0.0237 - accuracy: 0.9966 - val_loss: 0.0024 - val_accuracy: 1.0000\n",
            "Epoch 15/15\n",
            "10/10 [==============================] - 0s 19ms/step - loss: 0.0201 - accuracy: 0.9981 - val_loss: 0.0032 - val_accuracy: 1.0000\n"
          ],
          "name": "stdout"
        },
        {
          "output_type": "stream",
          "text": [
            "\r 68%|██████▊   | 17/25 [04:38<01:56, 14.54s/it]"
          ],
          "name": "stderr"
        },
        {
          "output_type": "stream",
          "text": [
            "Epoch 1/15\n",
            "10/10 [==============================] - 10s 277ms/step - loss: 1.3560 - accuracy: 0.4891 - val_loss: 0.5942 - val_accuracy: 0.8750\n",
            "Epoch 2/15\n",
            "10/10 [==============================] - 0s 19ms/step - loss: 0.7196 - accuracy: 0.7834 - val_loss: 0.3724 - val_accuracy: 0.7500\n",
            "Epoch 3/15\n",
            "10/10 [==============================] - 0s 19ms/step - loss: 0.4140 - accuracy: 0.8579 - val_loss: 1.8498 - val_accuracy: 0.2917\n",
            "Epoch 4/15\n",
            "10/10 [==============================] - 0s 19ms/step - loss: 0.2401 - accuracy: 0.9272 - val_loss: 0.7694 - val_accuracy: 0.8750\n",
            "Epoch 5/15\n",
            "10/10 [==============================] - 0s 18ms/step - loss: 0.2704 - accuracy: 0.9028 - val_loss: 0.1577 - val_accuracy: 0.9167\n",
            "Epoch 6/15\n",
            "10/10 [==============================] - 0s 18ms/step - loss: 0.1860 - accuracy: 0.9282 - val_loss: 1.0630 - val_accuracy: 0.5000\n",
            "Epoch 7/15\n",
            "10/10 [==============================] - 0s 19ms/step - loss: 0.1238 - accuracy: 0.9554 - val_loss: 0.2491 - val_accuracy: 0.8750\n",
            "Epoch 8/15\n",
            "10/10 [==============================] - 0s 19ms/step - loss: 0.0497 - accuracy: 0.9884 - val_loss: 0.0681 - val_accuracy: 1.0000\n",
            "Epoch 9/15\n",
            "10/10 [==============================] - 0s 18ms/step - loss: 0.0346 - accuracy: 0.9894 - val_loss: 0.0240 - val_accuracy: 1.0000\n",
            "Epoch 10/15\n",
            "10/10 [==============================] - 0s 19ms/step - loss: 0.0824 - accuracy: 0.9581 - val_loss: 0.1161 - val_accuracy: 1.0000\n",
            "Epoch 11/15\n",
            "10/10 [==============================] - 0s 18ms/step - loss: 0.0263 - accuracy: 0.9945 - val_loss: 0.0180 - val_accuracy: 1.0000\n",
            "Epoch 12/15\n",
            "10/10 [==============================] - 0s 19ms/step - loss: 0.0198 - accuracy: 1.0000 - val_loss: 0.0158 - val_accuracy: 1.0000\n",
            "Epoch 13/15\n",
            "10/10 [==============================] - 0s 17ms/step - loss: 0.0313 - accuracy: 0.9945 - val_loss: 0.0035 - val_accuracy: 1.0000\n",
            "Epoch 14/15\n",
            "10/10 [==============================] - 0s 17ms/step - loss: 0.0233 - accuracy: 0.9850 - val_loss: 0.0054 - val_accuracy: 1.0000\n",
            "Epoch 15/15\n",
            "10/10 [==============================] - 0s 17ms/step - loss: 0.0223 - accuracy: 0.9931 - val_loss: 0.0030 - val_accuracy: 1.0000\n"
          ],
          "name": "stdout"
        },
        {
          "output_type": "stream",
          "text": [
            "\r 72%|███████▏  | 18/25 [04:52<01:40, 14.33s/it]"
          ],
          "name": "stderr"
        },
        {
          "output_type": "stream",
          "text": [
            "Epoch 1/15\n",
            "10/10 [==============================] - 10s 273ms/step - loss: 2.0216 - accuracy: 0.4505 - val_loss: 1.1812 - val_accuracy: 0.3750\n",
            "Epoch 2/15\n",
            "10/10 [==============================] - 0s 20ms/step - loss: 0.4785 - accuracy: 0.8025 - val_loss: 3.7315 - val_accuracy: 0.2083\n",
            "Epoch 3/15\n",
            "10/10 [==============================] - 0s 19ms/step - loss: 0.5071 - accuracy: 0.8121 - val_loss: 0.3282 - val_accuracy: 0.8750\n",
            "Epoch 4/15\n",
            "10/10 [==============================] - 0s 18ms/step - loss: 0.3280 - accuracy: 0.8611 - val_loss: 0.5494 - val_accuracy: 0.7917\n",
            "Epoch 5/15\n",
            "10/10 [==============================] - 0s 18ms/step - loss: 0.1414 - accuracy: 0.9186 - val_loss: 0.2408 - val_accuracy: 0.9583\n",
            "Epoch 6/15\n",
            "10/10 [==============================] - 0s 17ms/step - loss: 0.1545 - accuracy: 0.9440 - val_loss: 0.1607 - val_accuracy: 0.9583\n",
            "Epoch 7/15\n",
            "10/10 [==============================] - 0s 18ms/step - loss: 0.1666 - accuracy: 0.9287 - val_loss: 0.1435 - val_accuracy: 0.9583\n",
            "Epoch 8/15\n",
            "10/10 [==============================] - 0s 17ms/step - loss: 0.0732 - accuracy: 0.9844 - val_loss: 0.0408 - val_accuracy: 1.0000\n",
            "Epoch 9/15\n",
            "10/10 [==============================] - 0s 19ms/step - loss: 0.0580 - accuracy: 0.9824 - val_loss: 0.0254 - val_accuracy: 1.0000\n",
            "Epoch 10/15\n",
            "10/10 [==============================] - 0s 18ms/step - loss: 0.0318 - accuracy: 1.0000 - val_loss: 0.0215 - val_accuracy: 1.0000\n",
            "Epoch 11/15\n",
            "10/10 [==============================] - 0s 17ms/step - loss: 0.0669 - accuracy: 0.9694 - val_loss: 0.0265 - val_accuracy: 1.0000\n",
            "Epoch 12/15\n",
            "10/10 [==============================] - 0s 17ms/step - loss: 0.0459 - accuracy: 0.9803 - val_loss: 0.0086 - val_accuracy: 1.0000\n",
            "Epoch 13/15\n",
            "10/10 [==============================] - 0s 19ms/step - loss: 0.0567 - accuracy: 0.9883 - val_loss: 0.0472 - val_accuracy: 0.9583\n",
            "Epoch 14/15\n",
            "10/10 [==============================] - 0s 18ms/step - loss: 0.0805 - accuracy: 0.9638 - val_loss: 0.0018 - val_accuracy: 1.0000\n",
            "Epoch 15/15\n",
            "10/10 [==============================] - 0s 18ms/step - loss: 0.0226 - accuracy: 1.0000 - val_loss: 0.0455 - val_accuracy: 1.0000\n"
          ],
          "name": "stdout"
        },
        {
          "output_type": "stream",
          "text": [
            "\r 76%|███████▌  | 19/25 [05:05<01:24, 14.13s/it]"
          ],
          "name": "stderr"
        },
        {
          "output_type": "stream",
          "text": [
            "Epoch 1/15\n",
            "10/10 [==============================] - 11s 276ms/step - loss: 1.9570 - accuracy: 0.5229 - val_loss: 2.2885 - val_accuracy: 0.1667\n",
            "Epoch 2/15\n",
            "10/10 [==============================] - 0s 19ms/step - loss: 0.7377 - accuracy: 0.7548 - val_loss: 0.6989 - val_accuracy: 0.8333\n",
            "Epoch 3/15\n",
            "10/10 [==============================] - 0s 18ms/step - loss: 0.5290 - accuracy: 0.8064 - val_loss: 0.2266 - val_accuracy: 0.9167\n",
            "Epoch 4/15\n",
            "10/10 [==============================] - 0s 18ms/step - loss: 0.2865 - accuracy: 0.8470 - val_loss: 1.0455 - val_accuracy: 0.5417\n",
            "Epoch 5/15\n",
            "10/10 [==============================] - 0s 18ms/step - loss: 0.2235 - accuracy: 0.9290 - val_loss: 0.3843 - val_accuracy: 0.7500\n",
            "Epoch 6/15\n",
            "10/10 [==============================] - 0s 19ms/step - loss: 0.1952 - accuracy: 0.9381 - val_loss: 0.1543 - val_accuracy: 0.9583\n",
            "Epoch 7/15\n",
            "10/10 [==============================] - 0s 18ms/step - loss: 0.1101 - accuracy: 0.9479 - val_loss: 0.0621 - val_accuracy: 1.0000\n",
            "Epoch 8/15\n",
            "10/10 [==============================] - 0s 17ms/step - loss: 0.0685 - accuracy: 0.9808 - val_loss: 0.0238 - val_accuracy: 1.0000\n",
            "Epoch 9/15\n",
            "10/10 [==============================] - 0s 17ms/step - loss: 0.0201 - accuracy: 1.0000 - val_loss: 0.0369 - val_accuracy: 1.0000\n",
            "Epoch 10/15\n",
            "10/10 [==============================] - 0s 17ms/step - loss: 0.0313 - accuracy: 1.0000 - val_loss: 0.0720 - val_accuracy: 1.0000\n",
            "Epoch 11/15\n",
            "10/10 [==============================] - 0s 18ms/step - loss: 0.0371 - accuracy: 1.0000 - val_loss: 0.0211 - val_accuracy: 1.0000\n",
            "Epoch 12/15\n",
            "10/10 [==============================] - 0s 17ms/step - loss: 0.0196 - accuracy: 1.0000 - val_loss: 0.0090 - val_accuracy: 1.0000\n",
            "Epoch 13/15\n",
            "10/10 [==============================] - 0s 17ms/step - loss: 0.0221 - accuracy: 1.0000 - val_loss: 0.0111 - val_accuracy: 1.0000\n",
            "Epoch 14/15\n",
            "10/10 [==============================] - 0s 18ms/step - loss: 0.0415 - accuracy: 0.9858 - val_loss: 0.0034 - val_accuracy: 1.0000\n",
            "Epoch 15/15\n",
            "10/10 [==============================] - 0s 17ms/step - loss: 0.0242 - accuracy: 0.9884 - val_loss: 0.0087 - val_accuracy: 1.0000\n"
          ],
          "name": "stdout"
        },
        {
          "output_type": "stream",
          "text": [
            "\r 80%|████████  | 20/25 [05:25<01:19, 15.85s/it]"
          ],
          "name": "stderr"
        },
        {
          "output_type": "stream",
          "text": [
            "Epoch 1/15\n",
            "10/10 [==============================] - 9s 271ms/step - loss: 2.0946 - accuracy: 0.4713 - val_loss: 3.4096 - val_accuracy: 0.2500\n",
            "Epoch 2/15\n",
            "10/10 [==============================] - 0s 20ms/step - loss: 1.0008 - accuracy: 0.6829 - val_loss: 1.9058 - val_accuracy: 0.2917\n",
            "Epoch 3/15\n",
            "10/10 [==============================] - 0s 18ms/step - loss: 0.4995 - accuracy: 0.7969 - val_loss: 0.2761 - val_accuracy: 0.8750\n",
            "Epoch 4/15\n",
            "10/10 [==============================] - 0s 18ms/step - loss: 0.3375 - accuracy: 0.8649 - val_loss: 0.7610 - val_accuracy: 0.7917\n",
            "Epoch 5/15\n",
            "10/10 [==============================] - 0s 17ms/step - loss: 0.1704 - accuracy: 0.9206 - val_loss: 0.5494 - val_accuracy: 0.8750\n",
            "Epoch 6/15\n",
            "10/10 [==============================] - 0s 18ms/step - loss: 0.2497 - accuracy: 0.9225 - val_loss: 0.4482 - val_accuracy: 0.7917\n",
            "Epoch 7/15\n",
            "10/10 [==============================] - 0s 17ms/step - loss: 0.2097 - accuracy: 0.8921 - val_loss: 0.1193 - val_accuracy: 0.9583\n",
            "Epoch 8/15\n",
            "10/10 [==============================] - 0s 18ms/step - loss: 0.0755 - accuracy: 0.9661 - val_loss: 1.2643 - val_accuracy: 0.4583\n",
            "Epoch 9/15\n",
            "10/10 [==============================] - 0s 17ms/step - loss: 0.0836 - accuracy: 0.9674 - val_loss: 0.1728 - val_accuracy: 0.9583\n",
            "Epoch 10/15\n",
            "10/10 [==============================] - 0s 17ms/step - loss: 0.0989 - accuracy: 0.9596 - val_loss: 0.0164 - val_accuracy: 1.0000\n",
            "Epoch 11/15\n",
            "10/10 [==============================] - 0s 18ms/step - loss: 0.0242 - accuracy: 1.0000 - val_loss: 0.0153 - val_accuracy: 1.0000\n",
            "Epoch 12/15\n",
            "10/10 [==============================] - 0s 17ms/step - loss: 0.0721 - accuracy: 0.9862 - val_loss: 0.0287 - val_accuracy: 1.0000\n",
            "Epoch 13/15\n",
            "10/10 [==============================] - 0s 18ms/step - loss: 0.0302 - accuracy: 1.0000 - val_loss: 0.0293 - val_accuracy: 1.0000\n",
            "Epoch 14/15\n",
            "10/10 [==============================] - 0s 17ms/step - loss: 0.0241 - accuracy: 0.9974 - val_loss: 0.0222 - val_accuracy: 1.0000\n",
            "Epoch 15/15\n",
            "10/10 [==============================] - 0s 17ms/step - loss: 0.0268 - accuracy: 0.9912 - val_loss: 0.0200 - val_accuracy: 1.0000\n"
          ],
          "name": "stdout"
        },
        {
          "output_type": "stream",
          "text": [
            "\r 84%|████████▍ | 21/25 [05:43<01:06, 16.53s/it]"
          ],
          "name": "stderr"
        },
        {
          "output_type": "stream",
          "text": [
            "Epoch 1/15\n",
            "10/10 [==============================] - 10s 282ms/step - loss: 2.0499 - accuracy: 0.4479 - val_loss: 1.3951 - val_accuracy: 0.7917\n",
            "Epoch 2/15\n",
            "10/10 [==============================] - 0s 21ms/step - loss: 1.2104 - accuracy: 0.6676 - val_loss: 1.6106 - val_accuracy: 0.5000\n",
            "Epoch 3/15\n",
            "10/10 [==============================] - 0s 19ms/step - loss: 0.4179 - accuracy: 0.8557 - val_loss: 0.2310 - val_accuracy: 0.8750\n",
            "Epoch 4/15\n",
            "10/10 [==============================] - 0s 18ms/step - loss: 0.1862 - accuracy: 0.9080 - val_loss: 0.3539 - val_accuracy: 0.8750\n",
            "Epoch 5/15\n",
            "10/10 [==============================] - 0s 18ms/step - loss: 0.1678 - accuracy: 0.9597 - val_loss: 0.2129 - val_accuracy: 0.9167\n",
            "Epoch 6/15\n",
            "10/10 [==============================] - 0s 19ms/step - loss: 0.1819 - accuracy: 0.9312 - val_loss: 0.1874 - val_accuracy: 0.9167\n",
            "Epoch 7/15\n",
            "10/10 [==============================] - 0s 19ms/step - loss: 0.0710 - accuracy: 0.9775 - val_loss: 0.0449 - val_accuracy: 1.0000\n",
            "Epoch 8/15\n",
            "10/10 [==============================] - 0s 18ms/step - loss: 0.1205 - accuracy: 0.9479 - val_loss: 0.0478 - val_accuracy: 1.0000\n",
            "Epoch 9/15\n",
            "10/10 [==============================] - 0s 19ms/step - loss: 0.0551 - accuracy: 0.9739 - val_loss: 0.0323 - val_accuracy: 1.0000\n",
            "Epoch 10/15\n",
            "10/10 [==============================] - 0s 19ms/step - loss: 0.0492 - accuracy: 0.9818 - val_loss: 0.0197 - val_accuracy: 1.0000\n",
            "Epoch 11/15\n",
            "10/10 [==============================] - 0s 18ms/step - loss: 0.0399 - accuracy: 0.9912 - val_loss: 0.0106 - val_accuracy: 1.0000\n",
            "Epoch 12/15\n",
            "10/10 [==============================] - 0s 18ms/step - loss: 0.0230 - accuracy: 1.0000 - val_loss: 0.0067 - val_accuracy: 1.0000\n",
            "Epoch 13/15\n",
            "10/10 [==============================] - 0s 18ms/step - loss: 0.0299 - accuracy: 0.9949 - val_loss: 0.0210 - val_accuracy: 1.0000\n",
            "Epoch 14/15\n",
            "10/10 [==============================] - 0s 17ms/step - loss: 0.0225 - accuracy: 0.9912 - val_loss: 0.0075 - val_accuracy: 1.0000\n",
            "Epoch 15/15\n",
            "10/10 [==============================] - 0s 18ms/step - loss: 0.0192 - accuracy: 0.9912 - val_loss: 0.0018 - val_accuracy: 1.0000\n"
          ],
          "name": "stdout"
        },
        {
          "output_type": "stream",
          "text": [
            "\r 88%|████████▊ | 22/25 [06:02<00:51, 17.05s/it]"
          ],
          "name": "stderr"
        },
        {
          "output_type": "stream",
          "text": [
            "Epoch 1/15\n",
            "10/10 [==============================] - 10s 297ms/step - loss: 1.7510 - accuracy: 0.4773 - val_loss: 8.1968 - val_accuracy: 0.0833\n",
            "Epoch 2/15\n",
            "10/10 [==============================] - 0s 19ms/step - loss: 0.8587 - accuracy: 0.7234 - val_loss: 0.9735 - val_accuracy: 0.4583\n",
            "Epoch 3/15\n",
            "10/10 [==============================] - 0s 19ms/step - loss: 0.4837 - accuracy: 0.7765 - val_loss: 0.5407 - val_accuracy: 0.5833\n",
            "Epoch 4/15\n",
            "10/10 [==============================] - 0s 18ms/step - loss: 0.2836 - accuracy: 0.9178 - val_loss: 1.6738 - val_accuracy: 0.3333\n",
            "Epoch 5/15\n",
            "10/10 [==============================] - 0s 19ms/step - loss: 0.1469 - accuracy: 0.9482 - val_loss: 0.9777 - val_accuracy: 0.5000\n",
            "Epoch 6/15\n",
            "10/10 [==============================] - 0s 19ms/step - loss: 0.1665 - accuracy: 0.9421 - val_loss: 0.8727 - val_accuracy: 0.5417\n",
            "Epoch 7/15\n",
            "10/10 [==============================] - 0s 19ms/step - loss: 0.0621 - accuracy: 0.9721 - val_loss: 0.1035 - val_accuracy: 1.0000\n",
            "Epoch 8/15\n",
            "10/10 [==============================] - 0s 18ms/step - loss: 0.0578 - accuracy: 0.9775 - val_loss: 0.3563 - val_accuracy: 0.8750\n",
            "Epoch 9/15\n",
            "10/10 [==============================] - 0s 18ms/step - loss: 0.1698 - accuracy: 0.9168 - val_loss: 1.8783 - val_accuracy: 0.2500\n",
            "Epoch 10/15\n",
            "10/10 [==============================] - 0s 18ms/step - loss: 0.0409 - accuracy: 0.9869 - val_loss: 0.2041 - val_accuracy: 0.9167\n",
            "Epoch 11/15\n",
            "10/10 [==============================] - 0s 19ms/step - loss: 0.0480 - accuracy: 0.9662 - val_loss: 0.0535 - val_accuracy: 1.0000\n",
            "Epoch 12/15\n",
            "10/10 [==============================] - 0s 18ms/step - loss: 0.0172 - accuracy: 0.9981 - val_loss: 0.0309 - val_accuracy: 1.0000\n",
            "Epoch 13/15\n",
            "10/10 [==============================] - 0s 18ms/step - loss: 0.0237 - accuracy: 0.9988 - val_loss: 0.0142 - val_accuracy: 1.0000\n",
            "Epoch 14/15\n",
            "10/10 [==============================] - 0s 20ms/step - loss: 0.0571 - accuracy: 0.9923 - val_loss: 0.0365 - val_accuracy: 1.0000\n",
            "Epoch 15/15\n",
            "10/10 [==============================] - 0s 19ms/step - loss: 0.0330 - accuracy: 0.9886 - val_loss: 0.0121 - val_accuracy: 1.0000\n"
          ],
          "name": "stdout"
        },
        {
          "output_type": "stream",
          "text": [
            "\r 92%|█████████▏| 23/25 [06:20<00:34, 17.45s/it]"
          ],
          "name": "stderr"
        },
        {
          "output_type": "stream",
          "text": [
            "Epoch 1/15\n",
            "10/10 [==============================] - 12s 495ms/step - loss: 1.9921 - accuracy: 0.5304 - val_loss: 1.8169 - val_accuracy: 0.3750\n",
            "Epoch 2/15\n",
            "10/10 [==============================] - 0s 19ms/step - loss: 0.7723 - accuracy: 0.8027 - val_loss: 0.8378 - val_accuracy: 0.8333\n",
            "Epoch 3/15\n",
            "10/10 [==============================] - 0s 18ms/step - loss: 0.6104 - accuracy: 0.7489 - val_loss: 4.0703 - val_accuracy: 0.1250\n",
            "Epoch 4/15\n",
            "10/10 [==============================] - 0s 17ms/step - loss: 0.2231 - accuracy: 0.9186 - val_loss: 0.2317 - val_accuracy: 0.9167\n",
            "Epoch 5/15\n",
            "10/10 [==============================] - 0s 18ms/step - loss: 0.1594 - accuracy: 0.9178 - val_loss: 0.5416 - val_accuracy: 0.7500\n",
            "Epoch 6/15\n",
            "10/10 [==============================] - 0s 18ms/step - loss: 0.1407 - accuracy: 0.9363 - val_loss: 0.3275 - val_accuracy: 0.8333\n",
            "Epoch 7/15\n",
            "10/10 [==============================] - 0s 17ms/step - loss: 0.0722 - accuracy: 0.9628 - val_loss: 0.0565 - val_accuracy: 1.0000\n",
            "Epoch 8/15\n",
            "10/10 [==============================] - 0s 17ms/step - loss: 0.0545 - accuracy: 0.9872 - val_loss: 0.0375 - val_accuracy: 1.0000\n",
            "Epoch 9/15\n",
            "10/10 [==============================] - 0s 17ms/step - loss: 0.0830 - accuracy: 0.9715 - val_loss: 0.1316 - val_accuracy: 0.9583\n",
            "Epoch 10/15\n",
            "10/10 [==============================] - 0s 18ms/step - loss: 0.0413 - accuracy: 1.0000 - val_loss: 0.0322 - val_accuracy: 1.0000\n",
            "Epoch 11/15\n",
            "10/10 [==============================] - 0s 18ms/step - loss: 0.0776 - accuracy: 0.9519 - val_loss: 0.0199 - val_accuracy: 1.0000\n",
            "Epoch 12/15\n",
            "10/10 [==============================] - 0s 19ms/step - loss: 0.0488 - accuracy: 0.9818 - val_loss: 0.0064 - val_accuracy: 1.0000\n",
            "Epoch 13/15\n",
            "10/10 [==============================] - 0s 18ms/step - loss: 0.0259 - accuracy: 1.0000 - val_loss: 0.0110 - val_accuracy: 1.0000\n",
            "Epoch 14/15\n",
            "10/10 [==============================] - 0s 17ms/step - loss: 0.0322 - accuracy: 0.9957 - val_loss: 0.0043 - val_accuracy: 1.0000\n",
            "Epoch 15/15\n",
            "10/10 [==============================] - 0s 18ms/step - loss: 0.0261 - accuracy: 0.9912 - val_loss: 0.0052 - val_accuracy: 1.0000\n"
          ],
          "name": "stdout"
        },
        {
          "output_type": "stream",
          "text": [
            "\r 96%|█████████▌| 24/25 [06:36<00:16, 16.91s/it]"
          ],
          "name": "stderr"
        },
        {
          "output_type": "stream",
          "text": [
            "Epoch 1/15\n",
            "10/10 [==============================] - 9s 272ms/step - loss: 2.0025 - accuracy: 0.5293 - val_loss: 0.6378 - val_accuracy: 0.7917\n",
            "Epoch 2/15\n",
            "10/10 [==============================] - 0s 19ms/step - loss: 0.9918 - accuracy: 0.6871 - val_loss: 1.0192 - val_accuracy: 0.7083\n",
            "Epoch 3/15\n",
            "10/10 [==============================] - 0s 19ms/step - loss: 0.4209 - accuracy: 0.8449 - val_loss: 1.1503 - val_accuracy: 0.4583\n",
            "Epoch 4/15\n",
            "10/10 [==============================] - 0s 19ms/step - loss: 0.3057 - accuracy: 0.8694 - val_loss: 1.0624 - val_accuracy: 0.5417\n",
            "Epoch 5/15\n",
            "10/10 [==============================] - 0s 18ms/step - loss: 0.1604 - accuracy: 0.9457 - val_loss: 0.1809 - val_accuracy: 0.9167\n",
            "Epoch 6/15\n",
            "10/10 [==============================] - 0s 18ms/step - loss: 0.0938 - accuracy: 0.9655 - val_loss: 0.1613 - val_accuracy: 0.9167\n",
            "Epoch 7/15\n",
            "10/10 [==============================] - 0s 18ms/step - loss: 0.0911 - accuracy: 0.9650 - val_loss: 0.0262 - val_accuracy: 1.0000\n",
            "Epoch 8/15\n",
            "10/10 [==============================] - 0s 18ms/step - loss: 0.1474 - accuracy: 0.9545 - val_loss: 0.1515 - val_accuracy: 1.0000\n",
            "Epoch 9/15\n",
            "10/10 [==============================] - 0s 17ms/step - loss: 0.0438 - accuracy: 1.0000 - val_loss: 0.3546 - val_accuracy: 0.9167\n",
            "Epoch 10/15\n",
            "10/10 [==============================] - 0s 19ms/step - loss: 0.0582 - accuracy: 0.9727 - val_loss: 0.0762 - val_accuracy: 1.0000\n",
            "Epoch 11/15\n",
            "10/10 [==============================] - 0s 18ms/step - loss: 0.0523 - accuracy: 0.9932 - val_loss: 0.0133 - val_accuracy: 1.0000\n",
            "Epoch 12/15\n",
            "10/10 [==============================] - 0s 17ms/step - loss: 0.0448 - accuracy: 0.9908 - val_loss: 0.0075 - val_accuracy: 1.0000\n",
            "Epoch 13/15\n",
            "10/10 [==============================] - 0s 18ms/step - loss: 0.0281 - accuracy: 1.0000 - val_loss: 0.0164 - val_accuracy: 1.0000\n",
            "Epoch 14/15\n",
            "10/10 [==============================] - 0s 17ms/step - loss: 0.0467 - accuracy: 0.9912 - val_loss: 0.0085 - val_accuracy: 1.0000\n",
            "Epoch 15/15\n",
            "10/10 [==============================] - 0s 18ms/step - loss: 0.0256 - accuracy: 1.0000 - val_loss: 0.0229 - val_accuracy: 1.0000\n"
          ],
          "name": "stdout"
        },
        {
          "output_type": "stream",
          "text": [
            "100%|██████████| 25/25 [06:49<00:00, 16.39s/it]\n"
          ],
          "name": "stderr"
        }
      ]
    },
    {
      "cell_type": "code",
      "metadata": {
        "colab": {
          "base_uri": "https://localhost:8080/"
        },
        "id": "8FvkyIKK5dlS",
        "outputId": "ab7f9e96-74ad-4a76-8083-8820b7adac3d"
      },
      "source": [
        "test_loss, test_acc = model.evaluate(X_test, y_test)\n",
        "\n",
        "print(\"Test accuracy\", test_acc)\n",
        "print(\"Test loss\", test_loss)"
      ],
      "execution_count": 39,
      "outputs": [
        {
          "output_type": "stream",
          "text": [
            "1/1 [==============================] - 0s 23ms/step - loss: 0.0229 - accuracy: 1.0000\n",
            "Test accuracy 1.0\n",
            "Test loss 0.022874727845191956\n"
          ],
          "name": "stdout"
        }
      ]
    },
    {
      "cell_type": "code",
      "metadata": {
        "id": "0rHMXNpbE5kk"
      },
      "source": [
        "yhat = model.predict(x)\n",
        "train_label = []\n",
        "for i in range(0,148):\n",
        "    if yhat[i][0] > yhat[i][1] and yhat[i][0] > yhat[i][2]:\n",
        "        train_label.append('CN')\n",
        "    elif yhat[i][1] > yhat[i][0] and yhat[i][1] > yhat[i][2]:\n",
        "        train_label.append('Dem')\n",
        "    elif yhat[i][2] > yhat[i][1] and yhat[i][2] > yhat[i][0]:\n",
        "        train_label.append('MCI')"
      ],
      "execution_count": 74,
      "outputs": []
    },
    {
      "cell_type": "code",
      "metadata": {
        "id": "WUZI2vScFiim"
      },
      "source": [
        "arranged_labels = le.inverse_transform(arranged_labels).ravel()"
      ],
      "execution_count": 76,
      "outputs": []
    },
    {
      "cell_type": "code",
      "metadata": {
        "colab": {
          "base_uri": "https://localhost:8080/"
        },
        "id": "XwiRFWJgFI9w",
        "outputId": "2c058ea9-3830-4869-bbe5-f50f5f812334"
      },
      "source": [
        "from sklearn.metrics import f1_score\n",
        "f1_score(arranged_labels, train_label, average='macro')"
      ],
      "execution_count": 77,
      "outputs": [
        {
          "output_type": "execute_result",
          "data": {
            "text/plain": [
              "1.0"
            ]
          },
          "metadata": {
            "tags": []
          },
          "execution_count": 77
        }
      ]
    },
    {
      "cell_type": "code",
      "metadata": {
        "id": "VrDqeNcc-xuN"
      },
      "source": [
        "test = pd.read_csv('drive/MyDrive/content/test.csv')"
      ],
      "execution_count": 40,
      "outputs": []
    },
    {
      "cell_type": "code",
      "metadata": {
        "id": "nDgmnQwL-zuw"
      },
      "source": [
        "time_series_length = pd.concat([test['EMAIL'].value_counts()])\n",
        "shortest_length = time_series_length[-1]"
      ],
      "execution_count": 41,
      "outputs": []
    },
    {
      "cell_type": "code",
      "metadata": {
        "colab": {
          "base_uri": "https://localhost:8080/"
        },
        "id": "y_aNXoYK_wPh",
        "outputId": "44ac8d6b-495d-4bd1-ea10-b0c3446d4d8d"
      },
      "source": [
        "shortest_length"
      ],
      "execution_count": 42,
      "outputs": [
        {
          "output_type": "execute_result",
          "data": {
            "text/plain": [
              "35"
            ]
          },
          "metadata": {
            "tags": []
          },
          "execution_count": 42
        }
      ]
    },
    {
      "cell_type": "code",
      "metadata": {
        "colab": {
          "base_uri": "https://localhost:8080/"
        },
        "id": "mYboyy6S_Cvz",
        "outputId": "8c4a465e-676b-49a1-8900-62fd5354adb2"
      },
      "source": [
        "test.shape"
      ],
      "execution_count": 43,
      "outputs": [
        {
          "output_type": "execute_result",
          "data": {
            "text/plain": [
              "(29092, 65)"
            ]
          },
          "metadata": {
            "tags": []
          },
          "execution_count": 43
        }
      ]
    },
    {
      "cell_type": "code",
      "metadata": {
        "id": "7hpmKifM5doj"
      },
      "source": [
        "for id in test['EMAIL'].unique():\n",
        "            idx = test['EMAIL'][test['EMAIL'] == id].index\n",
        "            start_idx = idx[0]\n",
        "            end_idx = idx[-1]\n",
        "            test.drop(list((range(start_idx + shortest_length , end_idx+1))), axis=0, inplace=True)\n",
        "            test = test.reset_index(drop=True)"
      ],
      "execution_count": 44,
      "outputs": []
    },
    {
      "cell_type": "code",
      "metadata": {
        "colab": {
          "base_uri": "https://localhost:8080/"
        },
        "id": "kCks4x_E_Ef7",
        "outputId": "f180a780-62e0-4478-fc70-8008dac39509"
      },
      "source": [
        "test.shape"
      ],
      "execution_count": 45,
      "outputs": [
        {
          "output_type": "execute_result",
          "data": {
            "text/plain": [
              "(16485, 65)"
            ]
          },
          "metadata": {
            "tags": []
          },
          "execution_count": 45
        }
      ]
    },
    {
      "cell_type": "code",
      "metadata": {
        "id": "Kqd7x5Xp5OIM"
      },
      "source": [
        "del_col = [ 'EMAIL', 'summary_date',\n",
        "                   'activity_class_5min', 'activity_met_1min',\n",
        "                   'sleep_hr_5min', 'sleep_hypnogram_5min', 'sleep_rmssd_5min', 'timezone', 'sleep_total',\n",
        "                   'CONVERT(activity_class_5min USING utf8)', 'CONVERT(activity_met_1min USING utf8)',\n",
        "                   'CONVERT(sleep_hr_5min USING utf8)', 'CONVERT(sleep_hypnogram_5min USING utf8)',\n",
        "                   'CONVERT(sleep_rmssd_5min USING utf8)']\n",
        "\n",
        "test.drop(del_col, axis=1, inplace=True)"
      ],
      "execution_count": 46,
      "outputs": []
    },
    {
      "cell_type": "code",
      "metadata": {
        "id": "d0Cr1ff25OOn"
      },
      "source": [
        "test = test.drop(columns = ['activity_average_met', 'activity_cal_active', 'activity_cal_total','activity_steps', 'activity_score',\n",
        "                                    'activity_score_move_every_hour', 'activity_daily_movement','activity_met_min_high',\n",
        "                                    'activity_score_stay_active', 'activity_total', 'activity_met_min_low','activity_medium',\n",
        "                                    'activity_score_training_frequency','activity_steps', 'activity_score',\n",
        "                                    'activity_score_training_volume','sleep_efficiency','sleep_duration','sleep_hr_lowest',\n",
        "                                    'sleep_midpoint_time','sleep_awake','sleep_deep','sleep_rem','sleep_restless','sleep_temperature_delta',\n",
        "                                    'sleep_score_total','sleep_score','activity_score_meet_daily_targets','sleep_period_id','activity_inactivity_alerts','activity_score_recovery_time'])"
      ],
      "execution_count": 47,
      "outputs": []
    },
    {
      "cell_type": "code",
      "metadata": {
        "id": "tNjXCdEj_Q-d"
      },
      "source": [
        "from sklearn.preprocessing import StandardScaler\n",
        "scaler = StandardScaler()\n",
        "scaler.fit(test)\n",
        "test = scaler.transform(test)"
      ],
      "execution_count": 48,
      "outputs": []
    },
    {
      "cell_type": "code",
      "metadata": {
        "colab": {
          "base_uri": "https://localhost:8080/"
        },
        "id": "r5g9cqIA_e1R",
        "outputId": "b6505871-285d-4bd3-bd61-87672710782a"
      },
      "source": [
        "test.shape"
      ],
      "execution_count": 49,
      "outputs": [
        {
          "output_type": "execute_result",
          "data": {
            "text/plain": [
              "(16485, 22)"
            ]
          },
          "metadata": {
            "tags": []
          },
          "execution_count": 49
        }
      ]
    },
    {
      "cell_type": "code",
      "metadata": {
        "id": "Uqzq0YVS_RA6"
      },
      "source": [
        "x_test = test.reshape((471,35,22))"
      ],
      "execution_count": 50,
      "outputs": []
    },
    {
      "cell_type": "code",
      "metadata": {
        "id": "b3mJcn7Y_RD8"
      },
      "source": [
        "yhat = model.predict(x_test)"
      ],
      "execution_count": 57,
      "outputs": []
    },
    {
      "cell_type": "code",
      "metadata": {
        "colab": {
          "base_uri": "https://localhost:8080/"
        },
        "id": "qVa1HIIq_RJT",
        "outputId": "01dc3f16-13b2-43a4-cdc6-d2c18cd31701"
      },
      "source": [
        "yhat"
      ],
      "execution_count": 58,
      "outputs": [
        {
          "output_type": "execute_result",
          "data": {
            "text/plain": [
              "array([[0.85308594, 0.00952704, 0.13738701],\n",
              "       [0.848369  , 0.02231917, 0.12931189],\n",
              "       [0.9777876 , 0.00298412, 0.01922837],\n",
              "       ...,\n",
              "       [0.9160201 , 0.00113155, 0.08284844],\n",
              "       [0.65066195, 0.00536154, 0.34397656],\n",
              "       [0.95998365, 0.00324477, 0.03677147]], dtype=float32)"
            ]
          },
          "metadata": {
            "tags": []
          },
          "execution_count": 58
        }
      ]
    },
    {
      "cell_type": "code",
      "metadata": {
        "id": "5Of7di3H_RLV"
      },
      "source": [
        "test_labels = pd.read_csv('drive/MyDrive/content/sample_submission.csv')"
      ],
      "execution_count": 55,
      "outputs": []
    },
    {
      "cell_type": "code",
      "metadata": {
        "id": "q48IPOVu_ROD"
      },
      "source": [
        "for i in range(0,471):\n",
        "    if yhat[i][0] > yhat[i][1] and yhat[i][0] > yhat[i][2]:\n",
        "        test_labels['DIAG_NM'][i] = 'CN'\n",
        "    elif yhat[i][1] > yhat[i][0] and yhat[i][1] > yhat[i][2]:\n",
        "        test_labels['DIAG_NM'][i] = 'Dem'\n",
        "    elif yhat[i][2] > yhat[i][1] and yhat[i][2] > yhat[i][0]:\n",
        "        test_labels['DIAG_NM'][i] = 'MCI'"
      ],
      "execution_count": 63,
      "outputs": []
    },
    {
      "cell_type": "code",
      "metadata": {
        "colab": {
          "base_uri": "https://localhost:8080/"
        },
        "id": "-5jXbOfxClNt",
        "outputId": "b5c83daa-2a70-47a2-901a-07d3940aaa60"
      },
      "source": [
        "yhat[0:10]"
      ],
      "execution_count": 67,
      "outputs": [
        {
          "output_type": "execute_result",
          "data": {
            "text/plain": [
              "array([[8.53085935e-01, 9.52703599e-03, 1.37387007e-01],\n",
              "       [8.48369002e-01, 2.23191679e-02, 1.29311889e-01],\n",
              "       [9.77787614e-01, 2.98412330e-03, 1.92283690e-02],\n",
              "       [8.87867332e-01, 2.88218190e-03, 1.09250516e-01],\n",
              "       [1.64465740e-01, 9.95118450e-03, 8.25583100e-01],\n",
              "       [3.02240461e-01, 3.00893880e-04, 6.97458625e-01],\n",
              "       [9.99244928e-01, 1.15034691e-05, 7.43548328e-04],\n",
              "       [6.62525892e-01, 8.91426578e-03, 3.28559905e-01],\n",
              "       [6.54598832e-01, 6.53248327e-03, 3.38868707e-01],\n",
              "       [9.85482812e-01, 5.44328417e-04, 1.39728673e-02]], dtype=float32)"
            ]
          },
          "metadata": {
            "tags": []
          },
          "execution_count": 67
        }
      ]
    },
    {
      "cell_type": "code",
      "metadata": {
        "id": "5TN3005tDPYS"
      },
      "source": [
        "inv_s2 = le.inverse_transform(yhat).ravel()"
      ],
      "execution_count": 68,
      "outputs": []
    },
    {
      "cell_type": "code",
      "metadata": {
        "colab": {
          "base_uri": "https://localhost:8080/"
        },
        "id": "TYqXmnAVDaE8",
        "outputId": "8aba4846-ad8b-4e06-a95d-58774a3fd001"
      },
      "source": [
        "inv_s2"
      ],
      "execution_count": 69,
      "outputs": [
        {
          "output_type": "execute_result",
          "data": {
            "text/plain": [
              "array(['CN', 'CN', 'CN', 'CN', 'MCI', 'MCI', 'CN', 'CN', 'CN', 'CN',\n",
              "       'MCI', 'CN', 'MCI', 'CN', 'CN', 'CN', 'CN', 'CN', 'CN', 'CN', 'CN',\n",
              "       'CN', 'MCI', 'CN', 'CN', 'MCI', 'CN', 'CN', 'CN', 'CN', 'CN',\n",
              "       'MCI', 'CN', 'CN', 'CN', 'CN', 'CN', 'MCI', 'CN', 'Dem', 'MCI',\n",
              "       'CN', 'MCI', 'CN', 'CN', 'CN', 'CN', 'CN', 'MCI', 'MCI', 'CN',\n",
              "       'MCI', 'MCI', 'CN', 'MCI', 'CN', 'MCI', 'CN', 'MCI', 'CN', 'MCI',\n",
              "       'CN', 'CN', 'MCI', 'MCI', 'CN', 'CN', 'CN', 'CN', 'CN', 'MCI',\n",
              "       'CN', 'CN', 'MCI', 'CN', 'CN', 'CN', 'MCI', 'CN', 'CN', 'CN', 'CN',\n",
              "       'CN', 'CN', 'MCI', 'CN', 'CN', 'MCI', 'CN', 'CN', 'CN', 'CN', 'CN',\n",
              "       'CN', 'CN', 'CN', 'MCI', 'MCI', 'CN', 'CN', 'CN', 'MCI', 'CN',\n",
              "       'CN', 'MCI', 'CN', 'CN', 'MCI', 'MCI', 'CN', 'CN', 'CN', 'Dem',\n",
              "       'CN', 'CN', 'CN', 'MCI', 'MCI', 'MCI', 'MCI', 'MCI', 'CN', 'MCI',\n",
              "       'CN', 'CN', 'MCI', 'CN', 'CN', 'CN', 'CN', 'Dem', 'MCI', 'CN',\n",
              "       'MCI', 'CN', 'CN', 'MCI', 'MCI', 'CN', 'MCI', 'CN', 'CN', 'MCI',\n",
              "       'MCI', 'MCI', 'MCI', 'CN', 'Dem', 'Dem', 'MCI', 'CN', 'CN', 'CN',\n",
              "       'CN', 'MCI', 'CN', 'CN', 'CN', 'CN', 'MCI', 'CN', 'MCI', 'CN',\n",
              "       'MCI', 'MCI', 'MCI', 'MCI', 'MCI', 'MCI', 'MCI', 'MCI', 'MCI',\n",
              "       'CN', 'CN', 'MCI', 'CN', 'CN', 'Dem', 'CN', 'CN', 'CN', 'MCI',\n",
              "       'CN', 'MCI', 'MCI', 'CN', 'MCI', 'CN', 'MCI', 'MCI', 'CN', 'CN',\n",
              "       'CN', 'CN', 'CN', 'CN', 'CN', 'CN', 'CN', 'CN', 'CN', 'CN', 'CN',\n",
              "       'CN', 'CN', 'MCI', 'CN', 'CN', 'Dem', 'MCI', 'MCI', 'MCI', 'CN',\n",
              "       'MCI', 'CN', 'CN', 'CN', 'CN', 'CN', 'CN', 'CN', 'CN', 'CN', 'CN',\n",
              "       'CN', 'MCI', 'CN', 'CN', 'MCI', 'CN', 'CN', 'MCI', 'CN', 'MCI',\n",
              "       'MCI', 'CN', 'CN', 'CN', 'CN', 'CN', 'CN', 'CN', 'MCI', 'MCI',\n",
              "       'CN', 'CN', 'CN', 'MCI', 'MCI', 'CN', 'MCI', 'MCI', 'CN', 'MCI',\n",
              "       'CN', 'CN', 'CN', 'Dem', 'MCI', 'CN', 'CN', 'MCI', 'MCI', 'CN',\n",
              "       'CN', 'CN', 'MCI', 'CN', 'MCI', 'CN', 'CN', 'MCI', 'CN', 'MCI',\n",
              "       'CN', 'CN', 'CN', 'CN', 'CN', 'CN', 'CN', 'MCI', 'CN', 'MCI',\n",
              "       'MCI', 'CN', 'CN', 'CN', 'Dem', 'CN', 'CN', 'CN', 'MCI', 'CN',\n",
              "       'MCI', 'CN', 'CN', 'MCI', 'CN', 'MCI', 'CN', 'CN', 'MCI', 'MCI',\n",
              "       'CN', 'MCI', 'MCI', 'CN', 'CN', 'CN', 'CN', 'MCI', 'CN', 'CN',\n",
              "       'CN', 'MCI', 'CN', 'MCI', 'CN', 'MCI', 'MCI', 'CN', 'CN', 'MCI',\n",
              "       'CN', 'CN', 'CN', 'CN', 'MCI', 'CN', 'MCI', 'CN', 'CN', 'CN',\n",
              "       'MCI', 'MCI', 'MCI', 'MCI', 'MCI', 'CN', 'MCI', 'MCI', 'CN', 'CN',\n",
              "       'CN', 'CN', 'MCI', 'CN', 'MCI', 'MCI', 'MCI', 'MCI', 'CN', 'MCI',\n",
              "       'CN', 'CN', 'CN', 'CN', 'MCI', 'CN', 'CN', 'CN', 'MCI', 'MCI',\n",
              "       'CN', 'CN', 'CN', 'CN', 'MCI', 'MCI', 'CN', 'MCI', 'CN', 'MCI',\n",
              "       'CN', 'CN', 'CN', 'MCI', 'CN', 'MCI', 'MCI', 'CN', 'MCI', 'CN',\n",
              "       'MCI', 'MCI', 'CN', 'CN', 'CN', 'CN', 'MCI', 'MCI', 'MCI', 'MCI',\n",
              "       'MCI', 'Dem', 'CN', 'MCI', 'CN', 'CN', 'MCI', 'CN', 'MCI', 'CN',\n",
              "       'MCI', 'MCI', 'CN', 'CN', 'CN', 'CN', 'MCI', 'CN', 'CN', 'CN',\n",
              "       'Dem', 'CN', 'MCI', 'CN', 'CN', 'MCI', 'MCI', 'CN', 'MCI', 'MCI',\n",
              "       'MCI', 'CN', 'CN', 'CN', 'MCI', 'MCI', 'MCI', 'CN', 'CN', 'CN',\n",
              "       'CN', 'CN', 'CN', 'CN', 'CN', 'CN', 'CN', 'MCI', 'MCI', 'CN',\n",
              "       'MCI', 'CN', 'CN', 'CN', 'CN', 'CN', 'CN', 'CN', 'MCI', 'CN', 'CN',\n",
              "       'CN', 'CN', 'MCI', 'CN', 'CN', 'CN', 'CN', 'CN', 'CN', 'MCI', 'CN',\n",
              "       'CN', 'MCI', 'CN', 'CN', 'CN'], dtype='<U3')"
            ]
          },
          "metadata": {
            "tags": []
          },
          "execution_count": 69
        }
      ]
    },
    {
      "cell_type": "code",
      "metadata": {
        "id": "4T7EBtWe_RQ2"
      },
      "source": [
        "test_labels.to_csv('drive/MyDrive/content/predict15.csv', index=False)"
      ],
      "execution_count": 64,
      "outputs": []
    }
  ]
}